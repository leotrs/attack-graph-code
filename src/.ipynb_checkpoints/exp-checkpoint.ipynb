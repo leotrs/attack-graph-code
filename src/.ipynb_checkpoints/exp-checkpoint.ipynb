{
 "cells": [
  {
   "cell_type": "code",
   "execution_count": 1,
   "metadata": {},
   "outputs": [],
   "source": [
    "import numpy as np\n",
    "import networkx as nx\n",
    "import pandas as pd\n",
    "import scipy.linalg as LIN\n",
    "import matplotlib.pyplot as plt\n",
    "\n",
    "plt.rcParams['figure.figsize'] = (12, 10)\n",
    "plt.rcParams['font.weight'] = 'medium'\n",
    "\n",
    "%matplotlib inline"
   ]
  },
  {
   "cell_type": "code",
   "execution_count": 2,
   "metadata": {},
   "outputs": [],
   "source": [
    "np.random.seed(199)"
   ]
  },
  {
   "cell_type": "code",
   "execution_count": 3,
   "metadata": {},
   "outputs": [],
   "source": [
    "# get left and right eigenvectors associated with the \n",
    "# largest eigenvalue. For a symmetric matrix, the left\n",
    "# and right eigenvectors are the same. \n",
    "def getLREigVec(mat):\n",
    "    eigVals_, eigL_, eigR_ = LIN.eig(mat, left=True)\n",
    "    idx_max = np.argmax(eigVals_)\n",
    "    t = eigL_[:, idx_max]\n",
    "    h = eigR_[:, idx_max]\n",
    "    return t, h\n",
    "\n",
    "# compute gradient (Eq.(5) in the write-up)\n",
    "def gradient(adjMat, S, Alpha, J):\n",
    "    n = adjMat.shape[0]\n",
    "    alpha1, alpha2, alpha3 = Alpha\n",
    "    \n",
    "    ## for 1st term, to increase the largest eigenvalue\n",
    "    ## of the subgraph\n",
    "    S_adjMat = adjMat[np.ix_(S, S)]\n",
    "    # t_S, h_S: left, right eigenvectors of the subgraph, respectively\n",
    "    t_S, h_S = getLREigVec(S_adjMat)\n",
    "    g_1 = np.zeros(adjMat.shape)\n",
    "    g_1[np.ix_(S, S)] = np.outer(t_S, h_S)\n",
    "    g_1 = 2 * g_1 - np.multiply(g_1, np.identity(n))\n",
    "    g_1 = np.multiply(g_1, J)\n",
    "\n",
    "    ## for 2nd term, to not increase the largest eigenvalue\n",
    "    ## too much\n",
    "    t, h = getLREigVec(adjMat)\n",
    "    g_2 = np.outer(t, h)\n",
    "    g_2 = 2 * g_2 - np.multiply(g_2, np.identity(n))\n",
    "    g_2 = np.multiply(g_2, J)\n",
    "\n",
    "    ## for 3rd term, to increase the centrality of the subgraph\n",
    "    x_S = np.zeros(len(G.nodes))\n",
    "    x_S[S] = 1\n",
    "    X_S = np.outer(x_S, x_S)\n",
    "    P = np.transpose( 2 * X_S - (np.multiply(X_S, np.identity(n))) )\n",
    "    g_3 = np.dot(np.multiply(P, np.identity(n)), np.ones((n, n))) - P\n",
    "    g_3 = g_3 + np.transpose(g_3) - np.multiply(g_3, np.identity(n))\n",
    "    # no need to change the edges' weights within the subgraph\n",
    "    g_3[np.ix_(S, S)] = 0\n",
    "    g_3 = np.multiply(g_3, J)\n",
    "    \n",
    "    g = np.real( alpha1 * g_1 - alpha2 * g_2 + (alpha3/len(S)) * g_3 )\n",
    "    return g\n",
    "\n",
    "# get the largest eigenvalue\n",
    "def maxEig(mat):\n",
    "    eigVals = LIN.eigvals(mat)\n",
    "    return np.max(eigVals)\n",
    "\n",
    "# get a submatrix of mat indexed by S\n",
    "def getSubmat(mat, S):\n",
    "    return mat[np.ix_(S, S)]\n",
    "\n",
    "# get the Laplacian matrix corresponding to mat\n",
    "def getL(mat):\n",
    "    degsVec = np.dot(mat, np.ones(mat.shape[1]))\n",
    "    return np.diag(degsVec) - mat\n",
    "\n",
    "# compute centrality\n",
    "def getCent(L, x_S):\n",
    "    return np.real( np.dot(x_S, np.dot(L, x_S)) / len(S) )"
   ]
  },
  {
   "cell_type": "code",
   "execution_count": 4,
   "metadata": {},
   "outputs": [],
   "source": [
    "n = 30\n",
    "G = nx.barabasi_albert_graph(n, 2)"
   ]
  },
  {
   "cell_type": "code",
   "execution_count": 5,
   "metadata": {
    "scrolled": true
   },
   "outputs": [
    {
     "name": "stdout",
     "output_type": "stream",
     "text": [
      "Lambda_S: 1.4142      Lambda: 5.2453      Centrality: 5      Utility: 0.2668\n",
      "Lambda_S: 1.8445      Lambda: 5.2901      Centrality: 5      Utility: 0.4962\n",
      "Lambda_S: 2.2557      Lambda: 5.3756      Centrality: 5      Utility: 0.6997\n",
      "Lambda_S: 2.6475      Lambda: 5.4956      Centrality: 6      Utility: 0.8802\n",
      "Lambda_S: 3.0208      Lambda: 5.6438      Centrality: 6      Utility: 1.0413\n",
      "Lambda_S: 3.3772      Lambda: 5.8143      Centrality: 6      Utility: 1.1868\n",
      "Lambda_S: 3.7188      Lambda: 6.0022      Centrality: 6      Utility: 1.3199\n",
      "Lambda_S: 4.0475      Lambda: 6.2038      Centrality: 6      Utility: 1.4433\n",
      "Lambda_S: 4.3653      Lambda: 6.4160      Centrality: 6      Utility: 1.5590\n",
      "Lambda_S: 4.6737      Lambda: 6.6366      Centrality: 6      Utility: 1.6688\n"
     ]
    }
   ],
   "source": [
    "adjMat = np.asarray(nx.adjacency_matrix(G).todense())\n",
    "J = np.copy(adjMat)\n",
    "    \n",
    "# trade-off parameters\n",
    "alpha1, alpha2, alpha3 = 0.5, 0.3, 0.2\n",
    "ret = {'Lambda': [], 'Lambda_S': [], 'Centrality': [], 'Utility': []}\n",
    "Gradient = []\n",
    "\n",
    "# subgraph is the induced subgraph of S\n",
    "S = [1, 2, 3]\n",
    "# x_S is the characteristic vector of S\n",
    "x_S = np.zeros(len(G.nodes))\n",
    "x_S[S] = 1\n",
    "\n",
    "Iter = 100\n",
    "lr = 0.1\n",
    "adjMat_0 = np.copy(adjMat)\n",
    "\n",
    "# gradient ascent \n",
    "for ii in range(Iter):\n",
    "    # compute eigenvalues\n",
    "    lambda_1 = np.real(maxEig(adjMat))\n",
    "    lambda_1_S = np.real(maxEig(getSubmat(adjMat, S)))\n",
    "    \n",
    "    # compute centrality\n",
    "    L = getL(adjMat)\n",
    "    Cent = getCent(L, x_S)\n",
    "    \n",
    "    # compute utility\n",
    "    utility = np.real( alpha1 * lambda_1_S - alpha2 * lambda_1 + alpha3 * Cent )\n",
    "    \n",
    "    # printing and recording intermediate results\n",
    "    if ii % 10 == 0:\n",
    "        print(\"Lambda_S: %.4f      Lambda: %.4f      Centrality: %i      Utility: %.4f\" % (lambda_1_S, lambda_1, Cent, utility))\n",
    "    ret['Lambda'].append(lambda_1)\n",
    "    ret['Lambda_S'].append(lambda_1_S)\n",
    "    ret['Centrality'].append(Cent)\n",
    "    ret['Utility'].append(utility)\n",
    "    \n",
    "    # update gradient\n",
    "    g = gradient(adjMat, S, [alpha1, alpha2, alpha3], J)\n",
    "    Gradient.append(np.copy(g))\n",
    "    adjMat = adjMat + lr * g\n",
    "\n",
    "# convert results into DataFrame\n",
    "ret = pd.DataFrame(ret)"
   ]
  },
  {
   "cell_type": "code",
   "execution_count": 6,
   "metadata": {
    "scrolled": true
   },
   "outputs": [
    {
     "data": {
      "text/plain": [
       "Text(0.5, 1.0, 'alpha_1=0.50  alpha_2=0.30  alpha_3=0.20')"
      ]
     },
     "execution_count": 6,
     "metadata": {},
     "output_type": "execute_result"
    },
    {
     "data": {
      "image/png": "[encoded data removed]",
      "text/plain": [
       "<Figure size 432x288 with 1 Axes>"
      ]
     },
     "metadata": {
      "needs_background": "light"
     },
     "output_type": "display_data"
    }
   ],
   "source": [
    "# plot results\n",
    "ret[['Lambda', 'Lambda_S', 'Centrality']].plot(kind='line')\n",
    "plt.xlabel('iterations')\n",
    "plt.title('alpha_1=%.2f  alpha_2=%.2f  alpha_3=%.2f' % (alpha1, alpha2, alpha3))\n",
    "# plt.savefig('../ret/5-3-2.pdf')"
   ]
  },
  {
   "cell_type": "code",
   "execution_count": null,
   "metadata": {},
   "outputs": [],
   "source": []
  }
 ],
 "metadata": {
  "kernelspec": {
   "display_name": "Python 3",
   "language": "python",
   "name": "python3"
  },
  "language_info": {
   "codemirror_mode": {
    "name": "ipython",
    "version": 3
   },
   "file_extension": ".py",
   "mimetype": "text/x-python",
   "name": "python",
   "nbconvert_exporter": "python",
   "pygments_lexer": "ipython3",
   "version": "3.7.5"
  }
 },
 "nbformat": 4,
 "nbformat_minor": 2
}
