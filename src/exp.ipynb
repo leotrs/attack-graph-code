{
 "cells": [
  {
   "cell_type": "markdown",
   "metadata": {},
   "source": [
    "# Some imports and helper code"
   ]
  },
  {
   "cell_type": "code",
   "execution_count": 502,
   "metadata": {},
   "outputs": [],
   "source": [
    "import numpy as np\n",
    "import networkx as nx\n",
    "from spectrum_attack import spectrum_attack\n",
    "import matplotlib.pylab as plt\n",
    "from threat_model import Threat_Model\n",
    "\n",
    "np.random.seed(1)"
   ]
  },
  {
   "cell_type": "code",
   "execution_count": 473,
   "metadata": {},
   "outputs": [],
   "source": []
  },
  {
   "cell_type": "code",
   "execution_count": 2,
   "metadata": {},
   "outputs": [],
   "source": [
    "def plot_results(results, alphas):\n",
    "    plt.figure()\n",
    "    results[['lambda', 'lambda_sub', 'centrality']].plot(kind='line')\n",
    "    plt.xlabel('iterations')\n",
    "    title_template = r'$\\alpha_1={:.2f}, \\alpha_2={:.2f}, \\alpha_3={:.2f}$'\n",
    "    plt.title(title_template.format(*alphas))\n",
    "    \n",
    "    \n",
    "def plot_adj_matrices(graph, final_adj):\n",
    "    _, axes = plt.subplots(1, 2, figsize=(10, 5))\n",
    "    axes[0].imshow(nx.to_numpy_array(graph))\n",
    "    axes[0].set_title('before attack')\n",
    "    axes[1].imshow(final_adj.A)\n",
    "    axes[1].set_title('after attack')"
   ]
  },
  {
   "cell_type": "markdown",
   "metadata": {},
   "source": [
    "# Run the attack on a BA network (old nodes)"
   ]
  },
  {
   "cell_type": "markdown",
   "metadata": {},
   "source": [
    "In this experiment, I'll use a subgraph made of three nodes that are 'old' in the BA growth process, i.e., nodes of large degree."
   ]
  },
  {
   "cell_type": "code",
   "execution_count": 6,
   "metadata": {},
   "outputs": [
    {
     "name": "stdout",
     "output_type": "stream",
     "text": [
      "(0) utility: 2.372, lambda_1: 6.982, lambda_1_S: 2.000\n",
      "(10) utility: 2.686, lambda_1: 7.297, lambda_1_S: 2.523\n",
      "(20) utility: 2.975, lambda_1: 7.645, lambda_1_S: 3.023\n",
      "(30) utility: 3.246, lambda_1: 8.016, lambda_1_S: 3.504\n",
      "(40) utility: 3.503, lambda_1: 8.405, lambda_1_S: 3.969\n",
      "(50) utility: 3.750, lambda_1: 8.805, lambda_1_S: 4.420\n",
      "(60) utility: 3.989, lambda_1: 9.216, lambda_1_S: 4.860\n",
      "(70) utility: 4.221, lambda_1: 9.633, lambda_1_S: 5.291\n",
      "(80) utility: 4.448, lambda_1: 10.055, lambda_1_S: 5.713\n",
      "(90) utility: 4.671, lambda_1: 10.481, lambda_1_S: 6.129\n"
     ]
    }
   ],
   "source": [
    "graph = nx.barabasi_albert_graph(100, 2)\n",
    "subgraph = [1, 2, 3]\n",
    "alphas = [0.5, 0.3, 0.2]\n",
    "results, final_adj = spectrum_attack(graph, subgraph, alphas, verbose=True)"
   ]
  },
  {
   "cell_type": "markdown",
   "metadata": {},
   "source": [
    "## Plot the behavior of $\\lambda_1$ and $\\lambda_1^S$"
   ]
  },
  {
   "cell_type": "code",
   "execution_count": 7,
   "metadata": {},
   "outputs": [
    {
     "data": {
      "text/plain": [
       "<Figure size 432x288 with 0 Axes>"
      ]
     },
     "metadata": {},
     "output_type": "display_data"
    },
    {
     "data": {
      "image/png": "[encoded data removed]",
      "text/plain": [
       "<Figure size 432x288 with 1 Axes>"
      ]
     },
     "metadata": {
      "needs_background": "light"
     },
     "output_type": "display_data"
    }
   ],
   "source": [
    "plot_results(results, alphas)"
   ]
  },
  {
   "cell_type": "markdown",
   "metadata": {},
   "source": [
    "## Plot the original and final adjacency matrices"
   ]
  },
  {
   "cell_type": "code",
   "execution_count": 8,
   "metadata": {},
   "outputs": [
    {
     "data": {
      "image/png": "[encoded data removed]",
      "text/plain": [
       "<Figure size 720x360 with 2 Axes>"
      ]
     },
     "metadata": {
      "needs_background": "light"
     },
     "output_type": "display_data"
    }
   ],
   "source": [
    "plot_adj_matrices(graph, final_adj)"
   ]
  },
  {
   "cell_type": "markdown",
   "metadata": {},
   "source": [
    "Note that the weights of most edges has decreased, while the edges incident to (and between) nodes in the subgraph have increased weights (see top left corner of the matrix after attack)."
   ]
  },
  {
   "cell_type": "markdown",
   "metadata": {},
   "source": [
    "# Run attack on a BA network (new nodes)"
   ]
  },
  {
   "cell_type": "markdown",
   "metadata": {},
   "source": [
    "In this experiment, I'll use a subgraph induced by the egonet of a random node. Since the node is random, it is likely to have low degree."
   ]
  },
  {
   "cell_type": "code",
   "execution_count": 149,
   "metadata": {},
   "outputs": [
    {
     "name": "stdout",
     "output_type": "stream",
     "text": [
      "(0) utility: 0.054, lambda_1: 7.686, lambda_1_S: 2.000\n",
      "(10) utility: -0.016, lambda_1: 7.492, lambda_1_S: 1.736\n",
      "(20) utility: 0.042, lambda_1: 7.369, lambda_1_S: 1.772\n",
      "(30) utility: 0.141, lambda_1: 7.274, lambda_1_S: 1.907\n",
      "(40) utility: 0.194, lambda_1: 7.164, lambda_1_S: 1.941\n",
      "(50) utility: 0.244, lambda_1: 7.060, lambda_1_S: 1.976\n",
      "(60) utility: 0.293, lambda_1: 6.962, lambda_1_S: 2.011\n",
      "(70) utility: 0.424, lambda_1: 6.916, lambda_1_S: 2.241\n",
      "(80) utility: 0.465, lambda_1: 6.828, lambda_1_S: 2.269\n",
      "(90) utility: 0.376, lambda_1: 6.676, lambda_1_S: 1.998\n"
     ]
    }
   ],
   "source": [
    "import operator\n",
    "maxDegNode = max(dict(graph.degree).items(), key=operator.itemgetter(1))[0]\n",
    "\n",
    "graph = nx.barabasi_albert_graph(100, 2)\n",
    "# center = np.random.choice(range(graph.order()))\n",
    "# subgraph = list(graph.neighbors(center)) + [center] \n",
    "center = maxDegNode\n",
    "subgraph = list(graph.neighbors(maxDegNode))\n",
    "\n",
    "alphas = [0.5, 0.3, 0.2]\n",
    "results, final_adj = spectrum_attack(graph, subgraph, alphas, verbose=True)"
   ]
  },
  {
   "cell_type": "code",
   "execution_count": 150,
   "metadata": {},
   "outputs": [
    {
     "name": "stdout",
     "output_type": "stream",
     "text": [
      "[1, 2, 8, 13, 15, 26, 47, 57, 67, 86]\n",
      "4\n"
     ]
    }
   ],
   "source": [
    "print(subgraph)\n",
    "print(maxDegNode)"
   ]
  },
  {
   "cell_type": "markdown",
   "metadata": {},
   "source": [
    "## Plot behavior of $\\lambda_1$ and $\\lambda_1^S$"
   ]
  },
  {
   "cell_type": "code",
   "execution_count": 151,
   "metadata": {},
   "outputs": [
    {
     "data": {
      "text/plain": [
       "<Figure size 432x288 with 0 Axes>"
      ]
     },
     "metadata": {},
     "output_type": "display_data"
    },
    {
     "data": {
      "image/png": "[encoded data removed]",
      "text/plain": [
       "<Figure size 432x288 with 1 Axes>"
      ]
     },
     "metadata": {
      "needs_background": "light"
     },
     "output_type": "display_data"
    }
   ],
   "source": [
    "plot_results(results, alphas)"
   ]
  },
  {
   "cell_type": "markdown",
   "metadata": {},
   "source": [
    "Different than before, now $\\lambda_1$ is decreasing, and $\\lambda_1^S$ is oscillating."
   ]
  },
  {
   "cell_type": "markdown",
   "metadata": {},
   "source": [
    "## Plot adjacency matrices"
   ]
  },
  {
   "cell_type": "code",
   "execution_count": 124,
   "metadata": {},
   "outputs": [
    {
     "data": {
      "image/png": "[encoded data removed]",
      "text/plain": [
       "<Figure size 720x360 with 2 Axes>"
      ]
     },
     "metadata": {
      "needs_background": "light"
     },
     "output_type": "display_data"
    }
   ],
   "source": [
    "plot_adj_matrices(graph, final_adj)"
   ]
  },
  {
   "cell_type": "markdown",
   "metadata": {},
   "source": [
    "As before, the weights of most edges have decreased, while the edges incident to (and between) nodes in the subgraph have increased weights. Interestingly, the weights of edges incident to the nodes of largest degree seem to have decreased the most. (I.e. if you look at the top left corner of the right matrix, the colors are darker.)"
   ]
  },
  {
   "cell_type": "code",
   "execution_count": null,
   "metadata": {},
   "outputs": [],
   "source": []
  },
  {
   "cell_type": "code",
   "execution_count": null,
   "metadata": {},
   "outputs": [],
   "source": []
  },
  {
   "cell_type": "markdown",
   "metadata": {},
   "source": [
    "# Threat model with Tina's objective function"
   ]
  },
  {
   "cell_type": "code",
   "execution_count": 4,
   "metadata": {},
   "outputs": [],
   "source": []
  },
  {
   "cell_type": "code",
   "execution_count": null,
   "metadata": {},
   "outputs": [],
   "source": []
  },
  {
   "cell_type": "code",
   "execution_count": 495,
   "metadata": {},
   "outputs": [],
   "source": []
  },
  {
   "cell_type": "code",
   "execution_count": null,
   "metadata": {},
   "outputs": [],
   "source": []
  }
 ],
 "metadata": {
  "kernelspec": {
   "display_name": "Python 3",
   "language": "python",
   "name": "python3"
  },
  "language_info": {
   "codemirror_mode": {
    "name": "ipython",
    "version": 3
   },
   "file_extension": ".py",
   "mimetype": "text/x-python",
   "name": "python",
   "nbconvert_exporter": "python",
   "pygments_lexer": "ipython3",
   "version": "3.7.5"
  },
  "latex_envs": {
   "LaTeX_envs_menu_present": true,
   "autoclose": false,
   "autocomplete": false,
   "bibliofile": "biblio.bib",
   "cite_by": "apalike",
   "current_citInitial": 1,
   "eqLabelWithNumbers": true,
   "eqNumInitial": 1,
   "hotkeys": {
    "equation": "Ctrl-E",
    "itemize": "Ctrl-I"
   },
   "labels_anchors": false,
   "latex_user_defs": false,
   "report_style_numbering": true,
   "user_envs_cfg": false
  }
 },
 "nbformat": 4,
 "nbformat_minor": 2
}
