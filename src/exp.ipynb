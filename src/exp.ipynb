{
 "cells": [
  {
   "cell_type": "code",
   "execution_count": 2,
   "metadata": {},
   "outputs": [],
   "source": [
    "import numpy as np\n",
    "import networkx as nx\n",
    "import pandas as pd\n",
    "import scipy.linalg as LIN\n",
    "import matplotlib.pyplot as plt\n",
    "\n",
    "plt.rcParams['figure.figsize'] = (12, 10)\n",
    "plt.rcParams['font.weight'] = 'medium'\n",
    "\n",
    "%matplotlib inline"
   ]
  },
  {
   "cell_type": "code",
   "execution_count": 3,
   "metadata": {},
   "outputs": [],
   "source": [
    "np.random.seed(199)"
   ]
  },
  {
   "cell_type": "code",
   "execution_count": 41,
   "metadata": {},
   "outputs": [],
   "source": [
    "# get left and right eigenvectors associated with the \n",
    "# largest eigenvalue. \n",
    "def getLREigVec(mat):\n",
    "    eigVals_, eigL_, eigR_ = LIN.eig(mat, left=True)\n",
    "    idx_max = np.argmax(eigVals_)\n",
    "    t = eigL_[:, idx_max]\n",
    "    h = eigR_[:, idx_max]\n",
    "    return t, h\n",
    "\n",
    "# compute gradient (Eq.(5) in the write-up)\n",
    "def gradient(adjMat, S, Alpha, J):\n",
    "    n = adjMat.shape[0]\n",
    "    alpha1, alpha2, alpha3 = Alpha\n",
    "    I = np.identity(n)\n",
    "    \n",
    "    ## for 1st term, to increase the largest eigenvalue\n",
    "    ## of the subgraph\n",
    "    S_adjMat = adjMat[np.ix_(S, S)]\n",
    "    t_S, h_S = getLREigVec(S_adjMat)\n",
    "    c_1 = np.dot(t_S, h_S)\n",
    "    P_1 = np.outer(t_S, h_S)\n",
    "    g_1 = np.zeros(adjMat.shape)\n",
    "    g_1[np.ix_(S, S)] = (P_1 + np.transpose(P_1) - np.multiply(P_1, np.identity(len(S)))) / c_1\n",
    "    g_1 = np.multiply(g_1, J)\n",
    "\n",
    "    ## for 2nd term, to not increase the largest eigenvalue\n",
    "    ## too much\n",
    "    t, h = getLREigVec(adjMat)\n",
    "    c_2 = np.dot(t, h)\n",
    "    P_2 = np.outer(t, h)\n",
    "    g_2 = ( P_2 + np.transpose(P_2) - np.multiply(P_2, I) ) / c_2\n",
    "    g_2 = np.multiply(g_2, J)\n",
    "\n",
    "    ## for 3rd term, to increase the centrality of the subgraph\n",
    "    x_S = np.zeros(len(G.nodes))\n",
    "    x_S[S] = 1\n",
    "    X_S = np.outer(x_S, x_S)\n",
    "    P_3 = np.transpose( 2 * X_S - (np.multiply(X_S, I)) )\n",
    "    g_3 = np.dot(np.multiply(P_3, I), np.ones((n, n))) - P_3\n",
    "    g_3 = g_3 + np.transpose(g_3) - np.multiply(g_3, I)\n",
    "    # no need to change the edges' weights within the subgraph\n",
    "    g_3[np.ix_(S, S)] = 0\n",
    "    g_3 = np.multiply(g_3, J)\n",
    "    \n",
    "    g = np.real( alpha1 * g_1 - alpha2 * g_2 + (alpha3/len(S)) * g_3 )\n",
    "    return g\n",
    "\n",
    "# get the largest eigenvalue\n",
    "def maxEig(mat):\n",
    "    eigVals = LIN.eigvals(mat)\n",
    "    return np.max(eigVals)\n",
    "\n",
    "# get a submatrix of mat indexed by S\n",
    "def getSubmat(mat, S):\n",
    "    return mat[np.ix_(S, S)]\n",
    "\n",
    "# get the Laplacian matrix corresponding to mat\n",
    "def getL(mat):\n",
    "    degsVec = np.dot(mat, np.ones(mat.shape[1]))\n",
    "    return np.diag(degsVec) - mat\n",
    "\n",
    "# compute centrality\n",
    "def getCent(L, x_S):\n",
    "    return np.real( np.dot(x_S, np.dot(L, x_S)) / len(S) )"
   ]
  },
  {
   "cell_type": "code",
   "execution_count": 42,
   "metadata": {},
   "outputs": [],
   "source": [
    "n = 30\n",
    "G = nx.barabasi_albert_graph(n, 2)"
   ]
  },
  {
   "cell_type": "code",
   "execution_count": 55,
   "metadata": {
    "scrolled": true
   },
   "outputs": [
    {
     "name": "stdout",
     "output_type": "stream",
     "text": [
      "Lambda_S: 1.4142      Lambda: 5.1137      Centrality: 4      Utility: 0.1063\n",
      "Lambda_S: 1.8547      Lambda: 5.0968      Centrality: 4      Utility: 0.3660\n",
      "Lambda_S: 2.2700      Lambda: 5.1509      Centrality: 4      Utility: 0.5854\n",
      "Lambda_S: 2.6590      Lambda: 5.2628      Centrality: 5      Utility: 0.7690\n",
      "Lambda_S: 3.0239      Lambda: 5.4153      Centrality: 5      Utility: 0.9250\n",
      "Lambda_S: 3.3687      Lambda: 5.5947      Centrality: 5      Utility: 1.0609\n",
      "Lambda_S: 3.6972      Lambda: 5.7921      Centrality: 5      Utility: 1.1824\n",
      "Lambda_S: 4.0123      Lambda: 6.0022      Centrality: 5      Utility: 1.2933\n",
      "Lambda_S: 4.3165      Lambda: 6.2215      Centrality: 5      Utility: 1.3964\n",
      "Lambda_S: 4.6118      Lambda: 6.4476      Centrality: 5      Utility: 1.4934\n"
     ]
    }
   ],
   "source": [
    "adjMat = np.asarray(nx.adjacency_matrix(G).todense())\n",
    "J = np.copy(adjMat)\n",
    "    \n",
    "# trade-off parameters\n",
    "alpha1, alpha2, alpha3 = 0.5, 0.3, 0.2\n",
    "ret = {'Lambda': [], 'Lambda_S': [], 'Centrality': [], 'Utility': []}\n",
    "Gradient = []\n",
    "\n",
    "# subgraph is the induced subgraph of S\n",
    "S = [1, 2, 3]\n",
    "# x_S is the characteristic vector of S\n",
    "x_S = np.zeros(len(G.nodes))\n",
    "x_S[S] = 1\n",
    "\n",
    "Iter = 100\n",
    "lr = 0.1\n",
    "adjMat_0 = np.copy(adjMat)\n",
    "\n",
    "# gradient ascent \n",
    "for ii in range(Iter):\n",
    "    # compute eigenvalues\n",
    "    lambda_1 = np.real(maxEig(adjMat))\n",
    "    lambda_1_S = np.real(maxEig(getSubmat(adjMat, S)))\n",
    "    \n",
    "    # compute centrality\n",
    "    L = getL(adjMat)\n",
    "    Cent = getCent(L, x_S)\n",
    "    \n",
    "    # compute utility\n",
    "    utility = np.real( alpha1 * lambda_1_S - alpha2 * lambda_1 + alpha3 * Cent )\n",
    "    \n",
    "    # printing and recording intermediate results\n",
    "    if ii % 10 == 0:\n",
    "        print(\"Lambda_S: %.4f      Lambda: %.4f      Centrality: %i      Utility: %.4f\" % (lambda_1_S, lambda_1, Cent, utility))\n",
    "    ret['Lambda'].append(lambda_1)\n",
    "    ret['Lambda_S'].append(lambda_1_S)\n",
    "    ret['Centrality'].append(Cent)\n",
    "    ret['Utility'].append(utility)\n",
    "    \n",
    "    # update gradient\n",
    "    g = gradient(adjMat, S, [alpha1, alpha2, alpha3], J)\n",
    "    Gradient.append(np.copy(g))\n",
    "    adjMat = adjMat + lr * g\n",
    "\n",
    "# convert results into DataFrame\n",
    "ret = pd.DataFrame(ret)"
   ]
  },
  {
   "cell_type": "code",
   "execution_count": 56,
   "metadata": {
    "scrolled": true
   },
   "outputs": [
    {
     "data": {
      "text/plain": [
       "Text(0.5, 1.0, 'alpha_1=0.50  alpha_2=0.30  alpha_3=0.20')"
      ]
     },
     "execution_count": 56,
     "metadata": {},
     "output_type": "execute_result"
    },
    {
     "data": {
      "image/png": "[encoded data removed]",
      "text/plain": [
       "<Figure size 432x288 with 1 Axes>"
      ]
     },
     "metadata": {
      "needs_background": "light"
     },
     "output_type": "display_data"
    }
   ],
   "source": [
    "# plot results\n",
    "ret[['Lambda', 'Lambda_S', 'Centrality']].plot(kind='line')\n",
    "plt.xlabel('iterations')\n",
    "plt.title('alpha_1=%.2f  alpha_2=%.2f  alpha_3=%.2f' % (alpha1, alpha2, alpha3))\n",
    "# plt.savefig('../ret/5-3-2.pdf')"
   ]
  },
  {
   "cell_type": "markdown",
   "metadata": {},
   "source": [
    "#  This Line below is irrelevant"
   ]
  },
  {
   "cell_type": "code",
   "execution_count": 57,
   "metadata": {},
   "outputs": [
    {
     "data": {
      "image/png": "[encoded data removed]",
      "text/plain": [
       "<Figure size 432x288 with 1 Axes>"
      ]
     },
     "metadata": {},
     "output_type": "display_data"
    }
   ],
   "source": [
    "G = nx.Graph()\n",
    "G.add_nodes_from([1, 2, 3])\n",
    "G.add_edges_from([(1,2), (1, 3), (2, 3)])\n",
    "nx.draw(G, with_labels=True)"
   ]
  },
  {
   "cell_type": "code",
   "execution_count": 58,
   "metadata": {},
   "outputs": [],
   "source": [
    "A = np.asarray( nx.adjacency_matrix(G).todense() )\n",
    "L = np.asarray( nx.laplacian_matrix(G).todense() )"
   ]
  },
  {
   "cell_type": "code",
   "execution_count": 85,
   "metadata": {},
   "outputs": [],
   "source": [
    "xs = np.zeros(3)\n",
    "xs[[0, 1]] = 1"
   ]
  },
  {
   "cell_type": "code",
   "execution_count": 86,
   "metadata": {},
   "outputs": [
    {
     "data": {
      "text/plain": [
       "2.0"
      ]
     },
     "execution_count": 86,
     "metadata": {},
     "output_type": "execute_result"
    }
   ],
   "source": [
    "np.dot(xs, np.dot(L, xs))"
   ]
  },
  {
   "cell_type": "code",
   "execution_count": 92,
   "metadata": {},
   "outputs": [
    {
     "data": {
      "text/plain": [
       "array([[ 0., -2.,  1.],\n",
       "       [-2.,  0.,  1.],\n",
       "       [ 1.,  1.,  0.]])"
      ]
     },
     "execution_count": 92,
     "metadata": {},
     "output_type": "execute_result"
    }
   ],
   "source": [
    "XS = np.outer(xs, xs)\n",
    "P = np.transpose( 2 * XS - (np.multiply(XS, np.identity(3))) )\n",
    "\n",
    "a = np.dot(np.multiply(P, np.identity(3)), np.ones((3, 3)))\n",
    "g = a - P\n",
    "g = g + np.transpose(g) - np.multiply(g, np.identity(3))\n",
    "g = np.multiply(g, A)\n",
    "g"
   ]
  },
  {
   "cell_type": "code",
   "execution_count": 93,
   "metadata": {},
   "outputs": [
    {
     "data": {
      "text/plain": [
       "0.20000000000000018"
      ]
     },
     "execution_count": 93,
     "metadata": {},
     "output_type": "execute_result"
    }
   ],
   "source": [
    "# Delta = np.zeros((3,3))\n",
    "# Delta[0, 1] = 1\n",
    "# L_tilde = getL(A + Delta)\n",
    "Delta = 0.1 * g\n",
    "L_tilde = getL(A + Delta)\n",
    "np.dot(xs, np.dot(L_tilde, xs)) - np.dot(xs, np.dot(L, xs)) "
   ]
  },
  {
   "cell_type": "code",
   "execution_count": 79,
   "metadata": {},
   "outputs": [
    {
     "data": {
      "text/plain": [
       "6.0"
      ]
     },
     "execution_count": 79,
     "metadata": {},
     "output_type": "execute_result"
    }
   ],
   "source": [
    "np.trace(np.dot(Delta, XS))"
   ]
  },
  {
   "cell_type": "code",
   "execution_count": 61,
   "metadata": {},
   "outputs": [],
   "source": [
    "eigVals_, eigL_, eigR_ = LIN.eig(L, left=True)"
   ]
  },
  {
   "cell_type": "code",
   "execution_count": 63,
   "metadata": {},
   "outputs": [
    {
     "data": {
      "text/plain": [
       "array([[ 1.0958487 , -0.25049315,  0.15464445],\n",
       "       [-0.25049315,  1.15464445,  0.0958487 ],\n",
       "       [ 0.15464445,  0.0958487 ,  0.74950685]])"
      ]
     },
     "execution_count": 63,
     "metadata": {},
     "output_type": "execute_result"
    }
   ],
   "source": [
    "np.dot(eigR_, np.transpose(eigR_))"
   ]
  },
  {
   "cell_type": "code",
   "execution_count": 65,
   "metadata": {},
   "outputs": [
    {
     "data": {
      "text/plain": [
       "array([[ 1.0958487 , -0.25049315,  0.15464445],\n",
       "       [-0.25049315,  1.15464445,  0.0958487 ],\n",
       "       [ 0.15464445,  0.0958487 ,  0.74950685]])"
      ]
     },
     "execution_count": 65,
     "metadata": {},
     "output_type": "execute_result"
    }
   ],
   "source": [
    "T = np.zeros((3,3))\n",
    "for i in range(3):\n",
    "    T = T + np.outer(eigR_[:, i], eigR_[:, i])\n",
    "T"
   ]
  },
  {
   "cell_type": "code",
   "execution_count": null,
   "metadata": {},
   "outputs": [],
   "source": []
  },
  {
   "cell_type": "code",
   "execution_count": 80,
   "metadata": {},
   "outputs": [
    {
     "data": {
      "text/plain": [
       "array([[0, 1, 1],\n",
       "       [1, 0, 1],\n",
       "       [1, 1, 0]], dtype=int64)"
      ]
     },
     "execution_count": 80,
     "metadata": {},
     "output_type": "execute_result"
    }
   ],
   "source": [
    "A"
   ]
  },
  {
   "cell_type": "code",
   "execution_count": null,
   "metadata": {},
   "outputs": [],
   "source": []
  }
 ],
 "metadata": {
  "kernelspec": {
   "display_name": "Python 3",
   "language": "python",
   "name": "python3"
  },
  "language_info": {
   "codemirror_mode": {
    "name": "ipython",
    "version": 3
   },
   "file_extension": ".py",
   "mimetype": "text/x-python",
   "name": "python",
   "nbconvert_exporter": "python",
   "pygments_lexer": "ipython3",
   "version": "3.7.5"
  }
 },
 "nbformat": 4,
 "nbformat_minor": 2
}
