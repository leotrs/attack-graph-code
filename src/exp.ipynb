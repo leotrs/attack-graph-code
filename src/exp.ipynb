{
 "cells": [
  {
   "cell_type": "markdown",
   "metadata": {},
   "source": [
    "# Some imports and helper code"
   ]
  },
  {
   "cell_type": "code",
   "execution_count": 42,
   "metadata": {},
   "outputs": [],
   "source": [
    "import numpy as np\n",
    "import networkx as nx\n",
    "from spectrum_attack import spectrum_attack\n",
    "import matplotlib.pylab as plt\n",
    "\n",
    "np.random.seed(1)"
   ]
  },
  {
   "cell_type": "code",
   "execution_count": 2,
   "metadata": {},
   "outputs": [],
   "source": [
    "def plot_results(results, alphas):\n",
    "    plt.figure()\n",
    "    results[['lambda', 'lambda_sub', 'centrality']].plot(kind='line')\n",
    "    plt.xlabel('iterations')\n",
    "    title_template = r'$\\alpha_1={:.2f}, \\alpha_2={:.2f}, \\alpha_3={:.2f}$'\n",
    "    plt.title(title_template.format(*alphas))\n",
    "    \n",
    "    \n",
    "def plot_adj_matrices(graph, final_adj):\n",
    "    _, axes = plt.subplots(1, 2, figsize=(10, 5))\n",
    "    axes[0].imshow(nx.to_numpy_array(graph))\n",
    "    axes[0].set_title('before attack')\n",
    "    axes[1].imshow(final_adj.A)\n",
    "    axes[1].set_title('after attack')"
   ]
  },
  {
   "cell_type": "markdown",
   "metadata": {},
   "source": [
    "# Run the attack on a BA network (old nodes)"
   ]
  },
  {
   "cell_type": "markdown",
   "metadata": {},
   "source": [
    "In this experiment, I'll use a subgraph made of three nodes that are 'old' in the BA growth process, i.e., nodes of large degree."
   ]
  },
  {
   "cell_type": "code",
   "execution_count": 6,
   "metadata": {},
   "outputs": [
    {
     "name": "stdout",
     "output_type": "stream",
     "text": [
      "(0) utility: 2.372, lambda_1: 6.982, lambda_1_S: 2.000\n",
      "(10) utility: 2.686, lambda_1: 7.297, lambda_1_S: 2.523\n",
      "(20) utility: 2.975, lambda_1: 7.645, lambda_1_S: 3.023\n",
      "(30) utility: 3.246, lambda_1: 8.016, lambda_1_S: 3.504\n",
      "(40) utility: 3.503, lambda_1: 8.405, lambda_1_S: 3.969\n",
      "(50) utility: 3.750, lambda_1: 8.805, lambda_1_S: 4.420\n",
      "(60) utility: 3.989, lambda_1: 9.216, lambda_1_S: 4.860\n",
      "(70) utility: 4.221, lambda_1: 9.633, lambda_1_S: 5.291\n",
      "(80) utility: 4.448, lambda_1: 10.055, lambda_1_S: 5.713\n",
      "(90) utility: 4.671, lambda_1: 10.481, lambda_1_S: 6.129\n"
     ]
    }
   ],
   "source": [
    "graph = nx.barabasi_albert_graph(100, 2)\n",
    "subgraph = [1, 2, 3]\n",
    "alphas = [0.5, 0.3, 0.2]\n",
    "results, final_adj = spectrum_attack(graph, subgraph, alphas, verbose=True)"
   ]
  },
  {
   "cell_type": "markdown",
   "metadata": {},
   "source": [
    "## Plot the behavior of $\\lambda_1$ and $\\lambda_1^S$"
   ]
  },
  {
   "cell_type": "code",
   "execution_count": 7,
   "metadata": {},
   "outputs": [
    {
     "data": {
      "text/plain": [
       "<Figure size 432x288 with 0 Axes>"
      ]
     },
     "metadata": {},
     "output_type": "display_data"
    },
    {
     "data": {
      "image/png": "[encoded data removed]",
      "text/plain": [
       "<Figure size 432x288 with 1 Axes>"
      ]
     },
     "metadata": {
      "needs_background": "light"
     },
     "output_type": "display_data"
    }
   ],
   "source": [
    "plot_results(results, alphas)"
   ]
  },
  {
   "cell_type": "markdown",
   "metadata": {},
   "source": [
    "## Plot the original and final adjacency matrices"
   ]
  },
  {
   "cell_type": "code",
   "execution_count": 8,
   "metadata": {},
   "outputs": [
    {
     "data": {
      "image/png": "[encoded data removed]",
      "text/plain": [
       "<Figure size 720x360 with 2 Axes>"
      ]
     },
     "metadata": {
      "needs_background": "light"
     },
     "output_type": "display_data"
    }
   ],
   "source": [
    "plot_adj_matrices(graph, final_adj)"
   ]
  },
  {
   "cell_type": "markdown",
   "metadata": {},
   "source": [
    "Note that the weights of most edges has decreased, while the edges incident to (and between) nodes in the subgraph have increased weights (see top left corner of the matrix after attack)."
   ]
  },
  {
   "cell_type": "markdown",
   "metadata": {},
   "source": [
    "# Run attack on a BA network (new nodes)"
   ]
  },
  {
   "cell_type": "markdown",
   "metadata": {},
   "source": [
    "In this experiment, I'll use a subgraph induced by the egonet of a random node. Since the node is random, it is likely to have low degree."
   ]
  },
  {
   "cell_type": "code",
   "execution_count": 43,
   "metadata": {},
   "outputs": [
    {
     "name": "stdout",
     "output_type": "stream",
     "text": [
      "(0) utility: 0.563, lambda_1: 7.010, lambda_1_S: 1.732\n",
      "(10) utility: 0.789, lambda_1: 7.007, lambda_1_S: 2.107\n",
      "(20) utility: 0.820, lambda_1: 6.976, lambda_1_S: 2.079\n",
      "(30) utility: 0.988, lambda_1: 6.979, lambda_1_S: 2.348\n",
      "(40) utility: 1.104, lambda_1: 6.979, lambda_1_S: 2.515\n",
      "(50) utility: 1.260, lambda_1: 6.999, lambda_1_S: 2.774\n",
      "(60) utility: 1.231, lambda_1: 6.968, lambda_1_S: 2.633\n",
      "(70) utility: 1.336, lambda_1: 6.981, lambda_1_S: 2.790\n",
      "(80) utility: 1.437, lambda_1: 6.999, lambda_1_S: 2.945\n",
      "(90) utility: 1.401, lambda_1: 6.974, lambda_1_S: 2.798\n"
     ]
    }
   ],
   "source": [
    "graph = nx.barabasi_albert_graph(100, 2)\n",
    "center = np.random.choice(range(graph.order()))\n",
    "subgraph = list(graph.neighbors(center)) + [center]\n",
    "alphas = [0.5, 0.3, 0.2]\n",
    "results, final_adj = spectrum_attack(graph, subgraph, alphas, verbose=True)"
   ]
  },
  {
   "cell_type": "code",
   "execution_count": 44,
   "metadata": {},
   "outputs": [
    {
     "data": {
      "text/plain": [
       "[16, 73, 2, 37]"
      ]
     },
     "execution_count": 44,
     "metadata": {},
     "output_type": "execute_result"
    }
   ],
   "source": [
    "subgraph"
   ]
  },
  {
   "cell_type": "markdown",
   "metadata": {},
   "source": [
    "## Plot behavior of $\\lambda_1$ and $\\lambda_1^S$"
   ]
  },
  {
   "cell_type": "code",
   "execution_count": 45,
   "metadata": {},
   "outputs": [
    {
     "data": {
      "text/plain": [
       "<Figure size 432x288 with 0 Axes>"
      ]
     },
     "metadata": {},
     "output_type": "display_data"
    },
    {
     "data": {
      "image/png": "[encoded data removed]",
      "text/plain": [
       "<Figure size 432x288 with 1 Axes>"
      ]
     },
     "metadata": {
      "needs_background": "light"
     },
     "output_type": "display_data"
    }
   ],
   "source": [
    "plot_results(results, alphas)"
   ]
  },
  {
   "cell_type": "markdown",
   "metadata": {},
   "source": [
    "Different than before, now $\\lambda_1$ is decreasing, and $\\lambda_1^S$ is oscillating."
   ]
  },
  {
   "cell_type": "markdown",
   "metadata": {},
   "source": [
    "## Plot adjacency matrices"
   ]
  },
  {
   "cell_type": "code",
   "execution_count": 9,
   "metadata": {},
   "outputs": [
    {
     "data": {
      "image/png": "[encoded data removed]",
      "text/plain": [
       "<Figure size 720x360 with 2 Axes>"
      ]
     },
     "metadata": {
      "needs_background": "light"
     },
     "output_type": "display_data"
    }
   ],
   "source": [
    "plot_adj_matrices(graph, final_adj)"
   ]
  },
  {
   "cell_type": "markdown",
   "metadata": {},
   "source": [
    "As before, the weights of most edges have decreased, while the edges incident to (and between) nodes in the subgraph have increased weights. Interestingly, the weights of edges incident to the nodes of largest degree seem to have decreased the most. (I.e. if you look at the top left corner of the right matrix, the colors are darker.)"
   ]
  },
  {
   "cell_type": "code",
   "execution_count": null,
   "metadata": {},
   "outputs": [],
   "source": []
  }
 ],
 "metadata": {
  "kernelspec": {
   "display_name": "Python 2",
   "language": "python",
   "name": "python2"
  },
  "language_info": {
   "codemirror_mode": {
    "name": "ipython",
    "version": 2
   },
   "file_extension": ".py",
   "mimetype": "text/x-python",
   "name": "python",
   "nbconvert_exporter": "python",
   "pygments_lexer": "ipython2",
   "version": "2.7.15"
  },
  "latex_envs": {
   "LaTeX_envs_menu_present": true,
   "autoclose": false,
   "autocomplete": false,
   "bibliofile": "biblio.bib",
   "cite_by": "apalike",
   "current_citInitial": 1,
   "eqLabelWithNumbers": true,
   "eqNumInitial": 1,
   "hotkeys": {
    "equation": "Ctrl-E",
    "itemize": "Ctrl-I"
   },
   "labels_anchors": false,
   "latex_user_defs": false,
   "report_style_numbering": true,
   "user_envs_cfg": false
  }
 },
 "nbformat": 4,
 "nbformat_minor": 2
}
