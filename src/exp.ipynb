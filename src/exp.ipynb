{
 "cells": [
  {
   "cell_type": "code",
   "execution_count": 137,
   "metadata": {},
   "outputs": [],
   "source": [
    "import torch\n",
    "import numpy as np\n",
    "import torch.nn as nn\n",
    "import networkx as nx\n",
    "import pandas as pd\n",
    "import scipy.linalg as LIN\n",
    "import matplotlib.pyplot as plt\n",
    "\n",
    "plt.rcParams['figure.figsize'] = (12, 10)\n",
    "plt.rcParams['font.weight'] = 'medium'\n",
    "\n",
    "%matplotlib inline"
   ]
  },
  {
   "cell_type": "code",
   "execution_count": 2,
   "metadata": {},
   "outputs": [],
   "source": [
    "np.random.seed(1)"
   ]
  },
  {
   "cell_type": "code",
   "execution_count": 9,
   "metadata": {},
   "outputs": [],
   "source": [
    "# get left and right eigenvectors associated with the \n",
    "# largest eigenvalue. \n",
    "def getLREigVec(mat):\n",
    "    eigVals_, eigL_, eigR_ = LIN.eig(mat, left=True)\n",
    "    idx_max = np.argmax(eigVals_)\n",
    "    t = eigL_[:, idx_max]\n",
    "    h = eigR_[:, idx_max]\n",
    "    return t, h\n",
    "\n",
    "# compute gradient\n",
    "def gradient(adjMat, S, Alpha, J):\n",
    "    n = adjMat.shape[0]\n",
    "    alpha1, alpha2, alpha3 = Alpha\n",
    "    I = np.identity(n)\n",
    "    \n",
    "    ## for 1st term, to increase the largest eigenvalue\n",
    "    ## of the subgraph\n",
    "    S_adjMat = adjMat[np.ix_(S, S)]\n",
    "    t_S, h_S = getLREigVec(S_adjMat)\n",
    "    c_1 = np.dot(t_S, h_S)\n",
    "    P_1 = np.outer(t_S, h_S)\n",
    "    g_1 = np.zeros(adjMat.shape)\n",
    "    g_1[np.ix_(S, S)] = (P_1 + np.transpose(P_1) - np.multiply(P_1, np.identity(len(S)))) / c_1\n",
    "    g_1 = np.multiply(g_1, J)\n",
    "\n",
    "    ## for 2nd term, to not increase the largest eigenvalue\n",
    "    ## too much\n",
    "    t, h = getLREigVec(adjMat)\n",
    "    c_2 = np.dot(t, h)\n",
    "    P_2 = np.outer(t, h)\n",
    "    g_2 = ( P_2 + np.transpose(P_2) - np.multiply(P_2, I) ) / c_2\n",
    "    g_2 = np.multiply(g_2, J)\n",
    "\n",
    "    ## for 3rd term, to increase the centrality of the subgraph\n",
    "    x_S = np.zeros(len(G.nodes))\n",
    "    x_S[S] = 1\n",
    "    X_S = np.outer(x_S, x_S)\n",
    "    P_3 = np.transpose( 2 * X_S - (np.multiply(X_S, I)) )\n",
    "    g_3 = np.dot(np.multiply(P_3, I), np.ones((n, n))) - P_3\n",
    "    g_3 = g_3 + np.transpose(g_3) - np.multiply(g_3, I)\n",
    "    # no need to change the edges' weights within the subgraph\n",
    "#     g_3[np.ix_(S, S)] = 0\n",
    "    g_3 = np.multiply(g_3, J)\n",
    "    \n",
    "    g = np.real( alpha1 * g_1 - alpha2 * g_2 + (alpha3/len(S)) * g_3 )\n",
    "    return g\n",
    "\n",
    "# get the largest eigenvalue\n",
    "def maxEig(mat):\n",
    "    eigVals = LIN.eigvals(mat)\n",
    "    return np.max(eigVals)\n",
    "\n",
    "# get a submatrix of mat indexed by S\n",
    "def getSubmat(mat, S):\n",
    "    return mat[np.ix_(S, S)]\n",
    "\n",
    "# get the Laplacian matrix corresponding to mat\n",
    "def getL(mat):\n",
    "    degsVec = np.dot(mat, np.ones(mat.shape[1]))\n",
    "    return np.diag(degsVec) - mat\n",
    "\n",
    "# compute centrality\n",
    "def getCent(L, x_S):\n",
    "    return np.real( np.dot(x_S, np.dot(L, x_S)) / len(S) )"
   ]
  },
  {
   "cell_type": "code",
   "execution_count": 4,
   "metadata": {},
   "outputs": [],
   "source": []
  },
  {
   "cell_type": "code",
   "execution_count": 10,
   "metadata": {
    "scrolled": true
   },
   "outputs": [
    {
     "name": "stdout",
     "output_type": "stream",
     "text": [
      "Lambda_S: 1.4142      Lambda: 6.6199      Centrality: 4      Utility: 4.0000\n",
      "Lambda_S: 0.4714      Lambda: 6.8604      Centrality: 5      Utility: 5.3333\n",
      "Lambda_S: 0.4714      Lambda: 7.2597      Centrality: 6      Utility: 6.6667\n",
      "Lambda_S: 1.4142      Lambda: 7.8711      Centrality: 8      Utility: 8.0000\n",
      "Lambda_S: 2.3570      Lambda: 8.6903      Centrality: 9      Utility: 9.3333\n",
      "Lambda_S: 3.2998      Lambda: 9.6635      Centrality: 10      Utility: 10.6667\n",
      "Lambda_S: 4.2426      Lambda: 10.7369      Centrality: 11      Utility: 12.0000\n",
      "Lambda_S: 5.1854      Lambda: 11.8746      Centrality: 13      Utility: 13.3333\n",
      "Lambda_S: 6.1283      Lambda: 13.0548      Centrality: 14      Utility: 14.6667\n",
      "Lambda_S: 7.0711      Lambda: 14.2643      Centrality: 15      Utility: 16.0000\n"
     ]
    }
   ],
   "source": [
    "n = 100\n",
    "G = nx.barabasi_albert_graph(n, 2)\n",
    "\n",
    "adjMat = np.asarray(nx.adjacency_matrix(G).todense())\n",
    "J = np.copy(adjMat)\n",
    "    \n",
    "# trade-off parameters\n",
    "alpha1, alpha2, alpha3 = 0, 0, 1\n",
    "ret = {'Lambda': [], 'Lambda_S': [], 'Centrality': [], 'Utility': []}\n",
    "Gradient = []\n",
    "\n",
    "# subgraph is the induced subgraph of S\n",
    "center = np.random.choice(range(G.order()))\n",
    "S = list(G.neighbors(center)) + [center]\n",
    "# S = [1, 2, 3]\n",
    "# x_S is the characteristic vector of S\n",
    "x_S = np.zeros(len(G.nodes))\n",
    "x_S[S] = 1\n",
    "\n",
    "Iter = 100\n",
    "lr = 0.1\n",
    "adjMat_0 = np.copy(adjMat)\n",
    "\n",
    "# gradient ascent \n",
    "for ii in range(Iter):\n",
    "    # compute eigenvalues\n",
    "    lambda_1 = np.real(maxEig(adjMat))\n",
    "    lambda_1_S = np.real(maxEig(getSubmat(adjMat, S)))\n",
    "    \n",
    "    # compute centrality\n",
    "    L = getL(adjMat)\n",
    "    Cent = getCent(L, x_S)\n",
    "    \n",
    "    # compute utility\n",
    "    utility = np.real( alpha1 * lambda_1_S - alpha2 * lambda_1 + alpha3 * Cent )\n",
    "    \n",
    "    # printing and recording intermediate results\n",
    "    if ii % 10 == 0:\n",
    "        print(\"Lambda_S: %.4f      Lambda: %.4f      Centrality: %i      Utility: %.4f\" % (lambda_1_S, lambda_1, Cent, utility))\n",
    "    ret['Lambda'].append(lambda_1)\n",
    "    ret['Lambda_S'].append(lambda_1_S)\n",
    "    ret['Centrality'].append(Cent)\n",
    "    ret['Utility'].append(utility)\n",
    "    \n",
    "    # update gradient\n",
    "    g = gradient(adjMat, S, [alpha1, alpha2, alpha3], J)\n",
    "    Gradient.append(np.copy(g))\n",
    "    adjMat = adjMat + lr * g\n"
   ]
  },
  {
   "cell_type": "code",
   "execution_count": 11,
   "metadata": {},
   "outputs": [
    {
     "data": {
      "text/plain": [
       "array([[ 0.        ,  0.        , -0.66666667],\n",
       "       [ 0.        ,  0.        , -0.66666667],\n",
       "       [-0.66666667, -0.66666667,  0.        ]])"
      ]
     },
     "execution_count": 11,
     "metadata": {},
     "output_type": "execute_result"
    }
   ],
   "source": [
    "g[np.ix_(S, S)]"
   ]
  },
  {
   "cell_type": "code",
   "execution_count": 15,
   "metadata": {},
   "outputs": [
    {
     "data": {
      "text/plain": [
       "array([[1., 1., 1., 0., 0., 0., 0., 0., 0., 0.],\n",
       "       [1., 1., 1., 0., 0., 0., 0., 0., 0., 0.],\n",
       "       [1., 1., 1., 0., 0., 0., 0., 0., 0., 0.],\n",
       "       [0., 0., 0., 0., 0., 0., 0., 0., 0., 0.],\n",
       "       [0., 0., 0., 0., 0., 0., 0., 0., 0., 0.],\n",
       "       [0., 0., 0., 0., 0., 0., 0., 0., 0., 0.],\n",
       "       [0., 0., 0., 0., 0., 0., 0., 0., 0., 0.],\n",
       "       [0., 0., 0., 0., 0., 0., 0., 0., 0., 0.],\n",
       "       [0., 0., 0., 0., 0., 0., 0., 0., 0., 0.],\n",
       "       [0., 0., 0., 0., 0., 0., 0., 0., 0., 0.]])"
      ]
     },
     "execution_count": 15,
     "metadata": {},
     "output_type": "execute_result"
    }
   ],
   "source": [
    "idx = [0, 1, 2]\n",
    "a = np.zeros(10)\n",
    "a[idx] = 1\n",
    "np.outer(a, a)"
   ]
  },
  {
   "cell_type": "code",
   "execution_count": 48,
   "metadata": {
    "scrolled": true
   },
   "outputs": [
    {
     "data": {
      "text/plain": [
       "Text(0.5, 1.0, 'alpha_1=0.50  alpha_2=0.30  alpha_3=0.20')"
      ]
     },
     "execution_count": 48,
     "metadata": {},
     "output_type": "execute_result"
    },
    {
     "data": {
      "image/png": "[encoded data removed]",
      "text/plain": [
       "<Figure size 432x288 with 1 Axes>"
      ]
     },
     "metadata": {
      "needs_background": "light"
     },
     "output_type": "display_data"
    }
   ],
   "source": [
    "# plot results\n",
    "ret[['Lambda', 'Lambda_S', 'Centrality']].plot(kind='line')\n",
    "plt.xlabel('iterations')\n",
    "plt.title('alpha_1=%.2f  alpha_2=%.2f  alpha_3=%.2f' % (alpha1, alpha2, alpha3))\n",
    "# plt.savefig('../ret/5-3-2.pdf')"
   ]
  },
  {
   "cell_type": "markdown",
   "metadata": {},
   "source": [
    "#  This Line below is irrelevant"
   ]
  },
  {
   "cell_type": "code",
   "execution_count": 57,
   "metadata": {},
   "outputs": [
    {
     "data": {
      "image/png": "[encoded data removed]",
      "text/plain": [
       "<Figure size 432x288 with 1 Axes>"
      ]
     },
     "metadata": {},
     "output_type": "display_data"
    }
   ],
   "source": [
    "G = nx.Graph()\n",
    "G.add_nodes_from([1, 2, 3])\n",
    "G.add_edges_from([(1,2), (1, 3), (2, 3)])\n",
    "nx.draw(G, with_labels=True)"
   ]
  },
  {
   "cell_type": "code",
   "execution_count": 58,
   "metadata": {},
   "outputs": [],
   "source": [
    "A = np.asarray( nx.adjacency_matrix(G).todense() )\n",
    "L = np.asarray( nx.laplacian_matrix(G).todense() )"
   ]
  },
  {
   "cell_type": "code",
   "execution_count": 85,
   "metadata": {},
   "outputs": [],
   "source": [
    "xs = np.zeros(3)\n",
    "xs[[0, 1]] = 1"
   ]
  },
  {
   "cell_type": "code",
   "execution_count": 86,
   "metadata": {},
   "outputs": [
    {
     "data": {
      "text/plain": [
       "2.0"
      ]
     },
     "execution_count": 86,
     "metadata": {},
     "output_type": "execute_result"
    }
   ],
   "source": [
    "np.dot(xs, np.dot(L, xs))"
   ]
  },
  {
   "cell_type": "code",
   "execution_count": 92,
   "metadata": {},
   "outputs": [
    {
     "data": {
      "text/plain": [
       "array([[ 0., -2.,  1.],\n",
       "       [-2.,  0.,  1.],\n",
       "       [ 1.,  1.,  0.]])"
      ]
     },
     "execution_count": 92,
     "metadata": {},
     "output_type": "execute_result"
    }
   ],
   "source": [
    "XS = np.outer(xs, xs)\n",
    "P = np.transpose( 2 * XS - (np.multiply(XS, np.identity(3))) )\n",
    "\n",
    "a = np.dot(np.multiply(P, np.identity(3)), np.ones((3, 3)))\n",
    "g = a - P\n",
    "g = g + np.transpose(g) - np.multiply(g, np.identity(3))\n",
    "g = np.multiply(g, A)\n",
    "g"
   ]
  },
  {
   "cell_type": "code",
   "execution_count": 93,
   "metadata": {},
   "outputs": [
    {
     "data": {
      "text/plain": [
       "0.20000000000000018"
      ]
     },
     "execution_count": 93,
     "metadata": {},
     "output_type": "execute_result"
    }
   ],
   "source": [
    "# Delta = np.zeros((3,3))\n",
    "# Delta[0, 1] = 1\n",
    "# L_tilde = getL(A + Delta)\n",
    "Delta = 0.1 * g\n",
    "L_tilde = getL(A + Delta)\n",
    "np.dot(xs, np.dot(L_tilde, xs)) - np.dot(xs, np.dot(L, xs)) "
   ]
  },
  {
   "cell_type": "code",
   "execution_count": 79,
   "metadata": {},
   "outputs": [
    {
     "data": {
      "text/plain": [
       "6.0"
      ]
     },
     "execution_count": 79,
     "metadata": {},
     "output_type": "execute_result"
    }
   ],
   "source": [
    "np.trace(np.dot(Delta, XS))"
   ]
  },
  {
   "cell_type": "code",
   "execution_count": 61,
   "metadata": {},
   "outputs": [],
   "source": [
    "eigVals_, eigL_, eigR_ = LIN.eig(L, left=True)"
   ]
  },
  {
   "cell_type": "code",
   "execution_count": 63,
   "metadata": {},
   "outputs": [
    {
     "data": {
      "text/plain": [
       "array([[ 1.0958487 , -0.25049315,  0.15464445],\n",
       "       [-0.25049315,  1.15464445,  0.0958487 ],\n",
       "       [ 0.15464445,  0.0958487 ,  0.74950685]])"
      ]
     },
     "execution_count": 63,
     "metadata": {},
     "output_type": "execute_result"
    }
   ],
   "source": [
    "np.dot(eigR_, np.transpose(eigR_))"
   ]
  },
  {
   "cell_type": "code",
   "execution_count": 65,
   "metadata": {},
   "outputs": [
    {
     "data": {
      "text/plain": [
       "array([[ 1.0958487 , -0.25049315,  0.15464445],\n",
       "       [-0.25049315,  1.15464445,  0.0958487 ],\n",
       "       [ 0.15464445,  0.0958487 ,  0.74950685]])"
      ]
     },
     "execution_count": 65,
     "metadata": {},
     "output_type": "execute_result"
    }
   ],
   "source": [
    "T = np.zeros((3,3))\n",
    "for i in range(3):\n",
    "    T = T + np.outer(eigR_[:, i], eigR_[:, i])\n",
    "T"
   ]
  },
  {
   "cell_type": "code",
   "execution_count": null,
   "metadata": {},
   "outputs": [],
   "source": []
  },
  {
   "cell_type": "code",
   "execution_count": 80,
   "metadata": {},
   "outputs": [
    {
     "data": {
      "text/plain": [
       "array([[0, 1, 1],\n",
       "       [1, 0, 1],\n",
       "       [1, 1, 0]], dtype=int64)"
      ]
     },
     "execution_count": 80,
     "metadata": {},
     "output_type": "execute_result"
    }
   ],
   "source": [
    "A"
   ]
  },
  {
   "cell_type": "code",
   "execution_count": null,
   "metadata": {},
   "outputs": [],
   "source": []
  },
  {
   "cell_type": "code",
   "execution_count": 254,
   "metadata": {},
   "outputs": [],
   "source": []
  },
  {
   "cell_type": "code",
   "execution_count": 470,
   "metadata": {},
   "outputs": [],
   "source": [
    "n = 128\n",
    "G = nx.watts_strogatz_graph(n, 10, 0.2)\n",
    "adj = nx.adjacency_matrix(G).todense()\n",
    "\n",
    "alpha1, alpha2, alpha3 = 0.4, 0.4, 0.2\n",
    "\n",
    "center = np.random.choice(range(G.order()))\n",
    "S = list(G.neighbors(center)) + [center]\n",
    "S_prime = list(set(G.nodes()) - set(S))\n",
    "S = torch.LongTensor(S)\n",
    "S_prime = torch.LongTensor(S_prime)\n",
    "\n",
    "x_s = torch.zeros(n)\n",
    "x_s[S] = 1\n",
    "\n",
    "\n",
    "class Threat_Model(nn.Module):\n",
    "    def __init__(self, S, S_prime, Alpha, budget, learning_rate, G):\n",
    "        super(Threat_Model, self).__init__()\n",
    "        self.S = S\n",
    "        self.S_prime = S_prime\n",
    "        self.alpha_1, self.alpha_2, self.alpha_3 = Alpha\n",
    "        self.budget = budget\n",
    "        self.learning_rate = learning_rate\n",
    "        self.used_budget = 0\n",
    "        \n",
    "        self.lambda1_S_prime = 0\n",
    "        self.lambda1_S = 0\n",
    "        self.normalizedCut = 0\n",
    "        self.lambda1 = 0\n",
    "        \n",
    "        adj = nx.adjacency_matrix(G).todense()\n",
    "        self.mask = torch.tensor(adj, dtype=torch.float32)\n",
    "        eigVals, eigVecs = torch.symeig(self.mask, eigenvectors=True)\n",
    "        # eig-vector associated with the largest eig-value of A (since mask = A)\n",
    "        self.eig_v = eigVecs[:, -1]\n",
    "        self.original_lambda1 = eigVals[-1]\n",
    "        \n",
    "        self.adj_tensor = torch.tensor(adj, dtype=torch.float32).requires_grad_(True)\n",
    "        self.adj_tensor = nn.Parameter(self.adj_tensor)\n",
    "        # masking the gradients backpropagated to adj_tensor\n",
    "        self.adj_tensor.register_hook(lambda x: x * self.mask)\n",
    "        \n",
    "    def forward(self):\n",
    "        '''\n",
    "            compute the loss function given current adjacency matrix\n",
    "        '''\n",
    "        # degree matrix\n",
    "        D = torch.diag(torch.mm(self.adj_tensor, torch.ones(n).view(-1, 1)).squeeze())\n",
    "        # Laplacian matrix\n",
    "        L = D - self.adj_tensor\n",
    "    \n",
    "        # select the sub-matrix corresponding to S\n",
    "        adj_tensor_S = torch.index_select(torch.index_select(self.adj_tensor, 0, self.S), 1, self.S)\n",
    "        adj_tensor_S_prime = torch.index_select(torch.index_select(self.adj_tensor, 0, self.S_prime), 1, self.S_prime)\n",
    "    \n",
    "        # all sorts of largest eigenvalues \n",
    "        self.lambda1 = torch.max(torch.symeig(self.adj_tensor, eigenvectors=True)[0])\n",
    "        self.lambda1_S = torch.max(torch.symeig(adj_tensor_S, eigenvectors=True)[0])\n",
    "        self.lambda1_S_prime = torch.max(torch.symeig(adj_tensor_S_prime, eigenvectors=True)[0])\n",
    "        \n",
    "        # centrality measure\n",
    "        self.normalizedCut = torch.mm(x_s.view(1, -1), torch.mm(L, x_s.view(-1, 1))) / (0.5 * adj_tensor_S.sum())\n",
    "        Loss = -1 * (self.alpha_1 * self.lambda1_S - \\\n",
    "                     self.alpha_2 * self.lambda1_S_prime + self.alpha_3 * self.normalizedCut)\n",
    "        return Loss\n",
    "    \n",
    "    \n",
    "    # check if the attacker still has budget\n",
    "    def update_used_budget(self):\n",
    "        # make sure the attacker has made some attack\n",
    "        if self.adj_tensor.grad != None:\n",
    "            current_used_budget = \\\n",
    "                torch.abs(torch.mm(self.eig_v.view(1, -1), torch.mm(self.aggre_change, self.eig_v.view(-1, 1))))\n",
    "            self.used_budget += current_used_budget \n",
    "\n",
    "    \n",
    "    # return the results that we are interested in\n",
    "    def getRet(self):\n",
    "        return self.lambda1_S, self.lambda1, self.normalizedCut\n",
    "    \n",
    "    \n",
    "    def get_used_budget(self):\n",
    "        return torch.Tensor(self.used_budget).clone()\n",
    "            \n",
    "            \n",
    "learning_rate = 1e-1\n",
    "Alpha = [alpha1, alpha2, alpha3]\n",
    "Attacker = Threat_Model(S, S_prime, Alpha, 0.1, learning_rate, G)\n",
    "opt = torch.optim.Adam(Attacker.parameters(), lr=learning_rate)\n",
    "\n",
    "ret = {'lambda_1': [], 'lambda_1_S': [], 'centrality': []}\n",
    "Losses = []\n",
    "for i in range(20):\n",
    "    Loss = Attacker()\n",
    "    Losses.append(Loss.item())\n",
    "    lambda1_S, lambda1, normalizedCut = Attacker.getRet()\n",
    "    ret['lambda_1'].append(lambda1.item())\n",
    "    ret['lambda_1_S'].append(lambda1_S.item())\n",
    "    ret['centrality'].append(normalizedCut.item())\n",
    "\n",
    "    opt.zero_grad()\n",
    "    Loss.backward()\n",
    "    opt.step()\n",
    "            \n",
    "ret = pd.DataFrame(ret) "
   ]
  },
  {
   "cell_type": "code",
   "execution_count": 471,
   "metadata": {},
   "outputs": [
    {
     "data": {
      "text/html": [
       "<div>\n",
       "<style scoped>\n",
       "    .dataframe tbody tr th:only-of-type {\n",
       "        vertical-align: middle;\n",
       "    }\n",
       "\n",
       "    .dataframe tbody tr th {\n",
       "        vertical-align: top;\n",
       "    }\n",
       "\n",
       "    .dataframe thead th {\n",
       "        text-align: right;\n",
       "    }\n",
       "</style>\n",
       "<table border=\"1\" class=\"dataframe\">\n",
       "  <thead>\n",
       "    <tr style=\"text-align: right;\">\n",
       "      <th></th>\n",
       "      <th>lambda_1</th>\n",
       "      <th>lambda_1_S</th>\n",
       "      <th>centrality</th>\n",
       "    </tr>\n",
       "  </thead>\n",
       "  <tbody>\n",
       "    <tr>\n",
       "      <th>0</th>\n",
       "      <td>10.163877</td>\n",
       "      <td>5.291664</td>\n",
       "      <td>2.190476</td>\n",
       "    </tr>\n",
       "    <tr>\n",
       "      <th>1</th>\n",
       "      <td>9.404421</td>\n",
       "      <td>5.820830</td>\n",
       "      <td>2.190477</td>\n",
       "    </tr>\n",
       "    <tr>\n",
       "      <th>2</th>\n",
       "      <td>9.040400</td>\n",
       "      <td>6.350277</td>\n",
       "      <td>2.189713</td>\n",
       "    </tr>\n",
       "    <tr>\n",
       "      <th>3</th>\n",
       "      <td>9.191995</td>\n",
       "      <td>6.880132</td>\n",
       "      <td>2.188003</td>\n",
       "    </tr>\n",
       "    <tr>\n",
       "      <th>4</th>\n",
       "      <td>9.567895</td>\n",
       "      <td>7.410502</td>\n",
       "      <td>2.185272</td>\n",
       "    </tr>\n",
       "    <tr>\n",
       "      <th>5</th>\n",
       "      <td>10.026572</td>\n",
       "      <td>7.941459</td>\n",
       "      <td>2.181514</td>\n",
       "    </tr>\n",
       "    <tr>\n",
       "      <th>6</th>\n",
       "      <td>10.524951</td>\n",
       "      <td>8.473045</td>\n",
       "      <td>2.176759</td>\n",
       "    </tr>\n",
       "    <tr>\n",
       "      <th>7</th>\n",
       "      <td>11.046058</td>\n",
       "      <td>9.005306</td>\n",
       "      <td>2.171059</td>\n",
       "    </tr>\n",
       "    <tr>\n",
       "      <th>8</th>\n",
       "      <td>11.581601</td>\n",
       "      <td>9.538264</td>\n",
       "      <td>2.164476</td>\n",
       "    </tr>\n",
       "    <tr>\n",
       "      <th>9</th>\n",
       "      <td>12.126884</td>\n",
       "      <td>10.071932</td>\n",
       "      <td>2.157076</td>\n",
       "    </tr>\n",
       "    <tr>\n",
       "      <th>10</th>\n",
       "      <td>12.679064</td>\n",
       "      <td>10.606318</td>\n",
       "      <td>2.148929</td>\n",
       "    </tr>\n",
       "    <tr>\n",
       "      <th>11</th>\n",
       "      <td>13.249505</td>\n",
       "      <td>11.141421</td>\n",
       "      <td>2.140101</td>\n",
       "    </tr>\n",
       "    <tr>\n",
       "      <th>12</th>\n",
       "      <td>13.824674</td>\n",
       "      <td>11.677232</td>\n",
       "      <td>2.130657</td>\n",
       "    </tr>\n",
       "    <tr>\n",
       "      <th>13</th>\n",
       "      <td>14.402582</td>\n",
       "      <td>12.213745</td>\n",
       "      <td>2.120659</td>\n",
       "    </tr>\n",
       "    <tr>\n",
       "      <th>14</th>\n",
       "      <td>14.982825</td>\n",
       "      <td>12.750942</td>\n",
       "      <td>2.110164</td>\n",
       "    </tr>\n",
       "    <tr>\n",
       "      <th>15</th>\n",
       "      <td>15.563894</td>\n",
       "      <td>13.288822</td>\n",
       "      <td>2.099229</td>\n",
       "    </tr>\n",
       "    <tr>\n",
       "      <th>16</th>\n",
       "      <td>16.145203</td>\n",
       "      <td>13.827347</td>\n",
       "      <td>2.087903</td>\n",
       "    </tr>\n",
       "    <tr>\n",
       "      <th>17</th>\n",
       "      <td>16.726873</td>\n",
       "      <td>14.366508</td>\n",
       "      <td>2.076236</td>\n",
       "    </tr>\n",
       "    <tr>\n",
       "      <th>18</th>\n",
       "      <td>17.308714</td>\n",
       "      <td>14.906285</td>\n",
       "      <td>2.064271</td>\n",
       "    </tr>\n",
       "    <tr>\n",
       "      <th>19</th>\n",
       "      <td>17.890863</td>\n",
       "      <td>15.446642</td>\n",
       "      <td>2.052049</td>\n",
       "    </tr>\n",
       "  </tbody>\n",
       "</table>\n",
       "</div>"
      ],
      "text/plain": [
       "     lambda_1  lambda_1_S  centrality\n",
       "0   10.163877    5.291664    2.190476\n",
       "1    9.404421    5.820830    2.190477\n",
       "2    9.040400    6.350277    2.189713\n",
       "3    9.191995    6.880132    2.188003\n",
       "4    9.567895    7.410502    2.185272\n",
       "5   10.026572    7.941459    2.181514\n",
       "6   10.524951    8.473045    2.176759\n",
       "7   11.046058    9.005306    2.171059\n",
       "8   11.581601    9.538264    2.164476\n",
       "9   12.126884   10.071932    2.157076\n",
       "10  12.679064   10.606318    2.148929\n",
       "11  13.249505   11.141421    2.140101\n",
       "12  13.824674   11.677232    2.130657\n",
       "13  14.402582   12.213745    2.120659\n",
       "14  14.982825   12.750942    2.110164\n",
       "15  15.563894   13.288822    2.099229\n",
       "16  16.145203   13.827347    2.087903\n",
       "17  16.726873   14.366508    2.076236\n",
       "18  17.308714   14.906285    2.064271\n",
       "19  17.890863   15.446642    2.052049"
      ]
     },
     "execution_count": 471,
     "metadata": {},
     "output_type": "execute_result"
    }
   ],
   "source": [
    "ret"
   ]
  },
  {
   "cell_type": "code",
   "execution_count": 469,
   "metadata": {},
   "outputs": [
    {
     "data": {
      "text/plain": [
       "Text(0.5, 1.0, 'alpha_1=0.40  alpha_2=0.40  alpha_3=0.20')"
      ]
     },
     "execution_count": 469,
     "metadata": {},
     "output_type": "execute_result"
    },
    {
     "data": {
      "image/png": "[encoded data removed]",
      "text/plain": [
       "<Figure size 432x288 with 1 Axes>"
      ]
     },
     "metadata": {
      "needs_background": "light"
     },
     "output_type": "display_data"
    }
   ],
   "source": [
    "ret.plot(kind='line')\n",
    "plt.xlabel('iterations')\n",
    "plt.title('alpha_1=%.2f  alpha_2=%.2f  alpha_3=%.2f' % (alpha1, alpha2, alpha3))"
   ]
  },
  {
   "cell_type": "code",
   "execution_count": null,
   "metadata": {},
   "outputs": [],
   "source": []
  },
  {
   "cell_type": "code",
   "execution_count": 132,
   "metadata": {},
   "outputs": [
    {
     "data": {
      "text/plain": [
       "array([[ 0. ,  0. ,  0. , -0.5],\n",
       "       [ 0. ,  0. , -0.5, -0.5],\n",
       "       [ 0. , -0.5,  0. , -0.5],\n",
       "       [-0.5, -0.5, -0.5,  0. ]])"
      ]
     },
     "execution_count": 132,
     "metadata": {},
     "output_type": "execute_result"
    }
   ],
   "source": [
    "g[np.ix_(S.numpy(), S.numpy())]"
   ]
  },
  {
   "cell_type": "code",
   "execution_count": 134,
   "metadata": {},
   "outputs": [
    {
     "data": {
      "text/plain": [
       "array([0, 1, 5, 7, 8, 9])"
      ]
     },
     "execution_count": 134,
     "metadata": {},
     "output_type": "execute_result"
    }
   ],
   "source": [
    "np.where(adj_tensor.grad.numpy()[2, :])[0]"
   ]
  },
  {
   "cell_type": "code",
   "execution_count": 135,
   "metadata": {},
   "outputs": [
    {
     "data": {
      "text/plain": [
       "array([0, 1, 4, 7, 8, 9])"
      ]
     },
     "execution_count": 135,
     "metadata": {},
     "output_type": "execute_result"
    }
   ],
   "source": [
    "np.where(g[2,:])[0]"
   ]
  },
  {
   "cell_type": "code",
   "execution_count": null,
   "metadata": {},
   "outputs": [],
   "source": []
  },
  {
   "cell_type": "code",
   "execution_count": null,
   "metadata": {},
   "outputs": [],
   "source": []
  },
  {
   "cell_type": "code",
   "execution_count": null,
   "metadata": {},
   "outputs": [],
   "source": []
  },
  {
   "cell_type": "code",
   "execution_count": null,
   "metadata": {},
   "outputs": [],
   "source": []
  },
  {
   "cell_type": "code",
   "execution_count": null,
   "metadata": {},
   "outputs": [],
   "source": []
  }
 ],
 "metadata": {
  "kernelspec": {
   "display_name": "Python 3",
   "language": "python",
   "name": "python3"
  },
  "language_info": {
   "codemirror_mode": {
    "name": "ipython",
    "version": 3
   },
   "file_extension": ".py",
   "mimetype": "text/x-python",
   "name": "python",
   "nbconvert_exporter": "python",
   "pygments_lexer": "ipython3",
   "version": "3.7.5"
  }
 },
 "nbformat": 4,
 "nbformat_minor": 2
}
