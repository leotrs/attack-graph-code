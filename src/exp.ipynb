{
 "cells": [
  {
   "cell_type": "markdown",
   "metadata": {},
   "source": [
    "# Some imports and helper code"
   ]
  },
  {
   "cell_type": "code",
   "execution_count": 196,
   "metadata": {},
   "outputs": [],
   "source": [
    "import pickle\n",
    "import seaborn\n",
    "import numpy as np\n",
    "import pandas as pd\n",
    "import scipy as sci\n",
    "import networkx as nx\n",
    "import matplotlib.pylab as plt\n",
    "from threat_model import Threat_Model\n",
    "np.random.seed(1)\n",
    "\n",
    "%matplotlib inline \n",
    "\n",
    "plt.style.use('seaborn-paper')\n",
    "seaborn.set_context('paper', font_scale=2.2)\n",
    "plt.rcParams['figure.figsize'] = (6, 4)\n",
    "plt.rcParams['font.weight'] = 'medium'"
   ]
  },
  {
   "cell_type": "code",
   "execution_count": 473,
   "metadata": {},
   "outputs": [],
   "source": []
  },
  {
   "cell_type": "code",
   "execution_count": 2,
   "metadata": {},
   "outputs": [],
   "source": [
    "def plot_results(results, alphas):\n",
    "    plt.figure()\n",
    "    results[['lambda', 'lambda_sub', 'centrality']].plot(kind='line')\n",
    "    plt.xlabel('iterations')\n",
    "    title_template = r'$\\alpha_1={:.2f}, \\alpha_2={:.2f}, \\alpha_3={:.2f}$'\n",
    "    plt.title(title_template.format(*alphas))\n",
    "    \n",
    "    \n",
    "def plot_adj_matrices(graph, final_adj):\n",
    "    _, axes = plt.subplots(1, 2, figsize=(10, 5))\n",
    "    axes[0].imshow(nx.to_numpy_array(graph))\n",
    "    axes[0].set_title('before attack')\n",
    "    axes[1].imshow(final_adj.A)\n",
    "    axes[1].set_title('after attack')"
   ]
  },
  {
   "cell_type": "code",
   "execution_count": null,
   "metadata": {},
   "outputs": [],
   "source": []
  },
  {
   "cell_type": "code",
   "execution_count": 292,
   "metadata": {},
   "outputs": [],
   "source": [
    "graph_type = 'BA'\n",
    "with open('../result/{}_numExp_100.p'.format(graph_type), 'rb') as fid:\n",
    "    data = pickle.load(fid)\n",
    "# data_f = pd.DataFrame(data, columns=['lambda1_S', 'centrality', 'utility', 'budget'], dtype=np.float32)\n",
    "data_f = pd.DataFrame(data, columns=['lambda1_S', 'centrality', 'utility', 'S_size', \\\n",
    "                                     'Avg. Degree', 'G_size', 'budget'], dtype=np.float32)"
   ]
  },
  {
   "cell_type": "code",
   "execution_count": null,
   "metadata": {},
   "outputs": [],
   "source": []
  },
  {
   "cell_type": "code",
   "execution_count": 300,
   "metadata": {},
   "outputs": [
    {
     "name": "stderr",
     "output_type": "stream",
     "text": [
      "/Users/yusixie/miniconda2/envs/attack-graph/lib/python3.7/site-packages/matplotlib/backends/backend_pdf.py:946: RuntimeWarning: Glyph 0 missing from current font.\n",
      "  s, flags=LOAD_NO_SCALE | LOAD_NO_HINTING).horiAdvance\n",
      "/Users/yusixie/miniconda2/envs/attack-graph/lib/python3.7/site-packages/matplotlib/backends/backend_pdf.py:946: RuntimeWarning: Glyph 1 missing from current font.\n",
      "  s, flags=LOAD_NO_SCALE | LOAD_NO_HINTING).horiAdvance\n",
      "/Users/yusixie/miniconda2/envs/attack-graph/lib/python3.7/site-packages/matplotlib/backends/backend_pdf.py:946: RuntimeWarning: Glyph 2 missing from current font.\n",
      "  s, flags=LOAD_NO_SCALE | LOAD_NO_HINTING).horiAdvance\n",
      "/Users/yusixie/miniconda2/envs/attack-graph/lib/python3.7/site-packages/matplotlib/backends/backend_pdf.py:946: RuntimeWarning: Glyph 3 missing from current font.\n",
      "  s, flags=LOAD_NO_SCALE | LOAD_NO_HINTING).horiAdvance\n",
      "/Users/yusixie/miniconda2/envs/attack-graph/lib/python3.7/site-packages/matplotlib/backends/backend_pdf.py:946: RuntimeWarning: Glyph 4 missing from current font.\n",
      "  s, flags=LOAD_NO_SCALE | LOAD_NO_HINTING).horiAdvance\n",
      "/Users/yusixie/miniconda2/envs/attack-graph/lib/python3.7/site-packages/matplotlib/backends/backend_pdf.py:946: RuntimeWarning: Glyph 5 missing from current font.\n",
      "  s, flags=LOAD_NO_SCALE | LOAD_NO_HINTING).horiAdvance\n",
      "/Users/yusixie/miniconda2/envs/attack-graph/lib/python3.7/site-packages/matplotlib/backends/backend_pdf.py:946: RuntimeWarning: Glyph 6 missing from current font.\n",
      "  s, flags=LOAD_NO_SCALE | LOAD_NO_HINTING).horiAdvance\n",
      "/Users/yusixie/miniconda2/envs/attack-graph/lib/python3.7/site-packages/matplotlib/backends/backend_pdf.py:946: RuntimeWarning: Glyph 7 missing from current font.\n",
      "  s, flags=LOAD_NO_SCALE | LOAD_NO_HINTING).horiAdvance\n",
      "/Users/yusixie/miniconda2/envs/attack-graph/lib/python3.7/site-packages/matplotlib/backends/backend_pdf.py:946: RuntimeWarning: Glyph 8 missing from current font.\n",
      "  s, flags=LOAD_NO_SCALE | LOAD_NO_HINTING).horiAdvance\n",
      "/Users/yusixie/miniconda2/envs/attack-graph/lib/python3.7/site-packages/matplotlib/backends/backend_pdf.py:946: RuntimeWarning: Glyph 9 missing from current font.\n",
      "  s, flags=LOAD_NO_SCALE | LOAD_NO_HINTING).horiAdvance\n",
      "/Users/yusixie/miniconda2/envs/attack-graph/lib/python3.7/site-packages/matplotlib/backends/backend_pdf.py:946: RuntimeWarning: Glyph 10 missing from current font.\n",
      "  s, flags=LOAD_NO_SCALE | LOAD_NO_HINTING).horiAdvance\n",
      "/Users/yusixie/miniconda2/envs/attack-graph/lib/python3.7/site-packages/matplotlib/backends/backend_pdf.py:946: RuntimeWarning: Glyph 11 missing from current font.\n",
      "  s, flags=LOAD_NO_SCALE | LOAD_NO_HINTING).horiAdvance\n",
      "/Users/yusixie/miniconda2/envs/attack-graph/lib/python3.7/site-packages/matplotlib/backends/backend_pdf.py:946: RuntimeWarning: Glyph 12 missing from current font.\n",
      "  s, flags=LOAD_NO_SCALE | LOAD_NO_HINTING).horiAdvance\n",
      "/Users/yusixie/miniconda2/envs/attack-graph/lib/python3.7/site-packages/matplotlib/backends/backend_pdf.py:946: RuntimeWarning: Glyph 13 missing from current font.\n",
      "  s, flags=LOAD_NO_SCALE | LOAD_NO_HINTING).horiAdvance\n",
      "/Users/yusixie/miniconda2/envs/attack-graph/lib/python3.7/site-packages/matplotlib/backends/backend_pdf.py:946: RuntimeWarning: Glyph 14 missing from current font.\n",
      "  s, flags=LOAD_NO_SCALE | LOAD_NO_HINTING).horiAdvance\n",
      "/Users/yusixie/miniconda2/envs/attack-graph/lib/python3.7/site-packages/matplotlib/backends/backend_pdf.py:946: RuntimeWarning: Glyph 15 missing from current font.\n",
      "  s, flags=LOAD_NO_SCALE | LOAD_NO_HINTING).horiAdvance\n",
      "/Users/yusixie/miniconda2/envs/attack-graph/lib/python3.7/site-packages/matplotlib/backends/backend_pdf.py:946: RuntimeWarning: Glyph 16 missing from current font.\n",
      "  s, flags=LOAD_NO_SCALE | LOAD_NO_HINTING).horiAdvance\n",
      "/Users/yusixie/miniconda2/envs/attack-graph/lib/python3.7/site-packages/matplotlib/backends/backend_pdf.py:946: RuntimeWarning: Glyph 17 missing from current font.\n",
      "  s, flags=LOAD_NO_SCALE | LOAD_NO_HINTING).horiAdvance\n",
      "/Users/yusixie/miniconda2/envs/attack-graph/lib/python3.7/site-packages/matplotlib/backends/backend_pdf.py:946: RuntimeWarning: Glyph 18 missing from current font.\n",
      "  s, flags=LOAD_NO_SCALE | LOAD_NO_HINTING).horiAdvance\n",
      "/Users/yusixie/miniconda2/envs/attack-graph/lib/python3.7/site-packages/matplotlib/backends/backend_pdf.py:946: RuntimeWarning: Glyph 19 missing from current font.\n",
      "  s, flags=LOAD_NO_SCALE | LOAD_NO_HINTING).horiAdvance\n",
      "/Users/yusixie/miniconda2/envs/attack-graph/lib/python3.7/site-packages/matplotlib/backends/backend_pdf.py:946: RuntimeWarning: Glyph 20 missing from current font.\n",
      "  s, flags=LOAD_NO_SCALE | LOAD_NO_HINTING).horiAdvance\n",
      "/Users/yusixie/miniconda2/envs/attack-graph/lib/python3.7/site-packages/matplotlib/backends/backend_pdf.py:946: RuntimeWarning: Glyph 21 missing from current font.\n",
      "  s, flags=LOAD_NO_SCALE | LOAD_NO_HINTING).horiAdvance\n",
      "/Users/yusixie/miniconda2/envs/attack-graph/lib/python3.7/site-packages/matplotlib/backends/backend_pdf.py:946: RuntimeWarning: Glyph 22 missing from current font.\n",
      "  s, flags=LOAD_NO_SCALE | LOAD_NO_HINTING).horiAdvance\n",
      "/Users/yusixie/miniconda2/envs/attack-graph/lib/python3.7/site-packages/matplotlib/backends/backend_pdf.py:946: RuntimeWarning: Glyph 23 missing from current font.\n",
      "  s, flags=LOAD_NO_SCALE | LOAD_NO_HINTING).horiAdvance\n",
      "/Users/yusixie/miniconda2/envs/attack-graph/lib/python3.7/site-packages/matplotlib/backends/backend_pdf.py:946: RuntimeWarning: Glyph 24 missing from current font.\n",
      "  s, flags=LOAD_NO_SCALE | LOAD_NO_HINTING).horiAdvance\n",
      "/Users/yusixie/miniconda2/envs/attack-graph/lib/python3.7/site-packages/matplotlib/backends/backend_pdf.py:946: RuntimeWarning: Glyph 25 missing from current font.\n",
      "  s, flags=LOAD_NO_SCALE | LOAD_NO_HINTING).horiAdvance\n",
      "/Users/yusixie/miniconda2/envs/attack-graph/lib/python3.7/site-packages/matplotlib/backends/backend_pdf.py:946: RuntimeWarning: Glyph 26 missing from current font.\n",
      "  s, flags=LOAD_NO_SCALE | LOAD_NO_HINTING).horiAdvance\n",
      "/Users/yusixie/miniconda2/envs/attack-graph/lib/python3.7/site-packages/matplotlib/backends/backend_pdf.py:946: RuntimeWarning: Glyph 27 missing from current font.\n",
      "  s, flags=LOAD_NO_SCALE | LOAD_NO_HINTING).horiAdvance\n",
      "/Users/yusixie/miniconda2/envs/attack-graph/lib/python3.7/site-packages/matplotlib/backends/backend_pdf.py:946: RuntimeWarning: Glyph 28 missing from current font.\n",
      "  s, flags=LOAD_NO_SCALE | LOAD_NO_HINTING).horiAdvance\n",
      "/Users/yusixie/miniconda2/envs/attack-graph/lib/python3.7/site-packages/matplotlib/backends/backend_pdf.py:946: RuntimeWarning: Glyph 29 missing from current font.\n",
      "  s, flags=LOAD_NO_SCALE | LOAD_NO_HINTING).horiAdvance\n",
      "/Users/yusixie/miniconda2/envs/attack-graph/lib/python3.7/site-packages/matplotlib/backends/backend_pdf.py:946: RuntimeWarning: Glyph 30 missing from current font.\n",
      "  s, flags=LOAD_NO_SCALE | LOAD_NO_HINTING).horiAdvance\n",
      "/Users/yusixie/miniconda2/envs/attack-graph/lib/python3.7/site-packages/matplotlib/backends/backend_pdf.py:946: RuntimeWarning: Glyph 31 missing from current font.\n",
      "  s, flags=LOAD_NO_SCALE | LOAD_NO_HINTING).horiAdvance\n",
      "/Users/yusixie/miniconda2/envs/attack-graph/lib/python3.7/site-packages/matplotlib/backends/backend_pdf.py:946: RuntimeWarning: Glyph 127 missing from current font.\n",
      "  s, flags=LOAD_NO_SCALE | LOAD_NO_HINTING).horiAdvance\n",
      "/Users/yusixie/miniconda2/envs/attack-graph/lib/python3.7/site-packages/matplotlib/backends/backend_pdf.py:946: RuntimeWarning: Glyph 65534 missing from current font.\n",
      "  s, flags=LOAD_NO_SCALE | LOAD_NO_HINTING).horiAdvance\n"
     ]
    },
    {
     "data": {
      "image/png": "[encoded data removed]",
      "text/plain": [
       "<Figure size 720x576 with 1 Axes>"
      ]
     },
     "metadata": {
      "needs_background": "light"
     },
     "output_type": "display_data"
    }
   ],
   "source": [
    "seaborn.set_context('paper', font_scale=3.4)\n",
    "plt.subplots(figsize=(10, 8))\n",
    "ax = seaborn.boxplot(x='budget', y='lambda1_S', data=data_f, orient='v', showfliers=False)\n",
    "plt.xticks(range(5), ['1%', '5%', '10%', '15%', '20%'])\n",
    "plt.yticks(ax.get_yticks(),  ['%.0f%%' % (i*100) for i in ax.get_yticks()])\n",
    "plt.ylabel('$\\lambda_1(S)$')\n",
    "plt.xlabel('budget')\n",
    "plt.tight_layout()\n",
    "# plt.title(\"% of increases $\\lambda_1(S)$ - {}\".format(graph_type))\n",
    "plt.savefig('../result/figure/{}_lambda1S_numExp_100.pdf'.format(graph_type))"
   ]
  },
  {
   "cell_type": "code",
   "execution_count": null,
   "metadata": {},
   "outputs": [],
   "source": []
  },
  {
   "cell_type": "code",
   "execution_count": 301,
   "metadata": {},
   "outputs": [
    {
     "name": "stderr",
     "output_type": "stream",
     "text": [
      "/Users/yusixie/miniconda2/envs/attack-graph/lib/python3.7/site-packages/matplotlib/backends/backend_pdf.py:946: RuntimeWarning: Glyph 0 missing from current font.\n",
      "  s, flags=LOAD_NO_SCALE | LOAD_NO_HINTING).horiAdvance\n",
      "/Users/yusixie/miniconda2/envs/attack-graph/lib/python3.7/site-packages/matplotlib/backends/backend_pdf.py:946: RuntimeWarning: Glyph 1 missing from current font.\n",
      "  s, flags=LOAD_NO_SCALE | LOAD_NO_HINTING).horiAdvance\n",
      "/Users/yusixie/miniconda2/envs/attack-graph/lib/python3.7/site-packages/matplotlib/backends/backend_pdf.py:946: RuntimeWarning: Glyph 2 missing from current font.\n",
      "  s, flags=LOAD_NO_SCALE | LOAD_NO_HINTING).horiAdvance\n",
      "/Users/yusixie/miniconda2/envs/attack-graph/lib/python3.7/site-packages/matplotlib/backends/backend_pdf.py:946: RuntimeWarning: Glyph 3 missing from current font.\n",
      "  s, flags=LOAD_NO_SCALE | LOAD_NO_HINTING).horiAdvance\n",
      "/Users/yusixie/miniconda2/envs/attack-graph/lib/python3.7/site-packages/matplotlib/backends/backend_pdf.py:946: RuntimeWarning: Glyph 4 missing from current font.\n",
      "  s, flags=LOAD_NO_SCALE | LOAD_NO_HINTING).horiAdvance\n",
      "/Users/yusixie/miniconda2/envs/attack-graph/lib/python3.7/site-packages/matplotlib/backends/backend_pdf.py:946: RuntimeWarning: Glyph 5 missing from current font.\n",
      "  s, flags=LOAD_NO_SCALE | LOAD_NO_HINTING).horiAdvance\n",
      "/Users/yusixie/miniconda2/envs/attack-graph/lib/python3.7/site-packages/matplotlib/backends/backend_pdf.py:946: RuntimeWarning: Glyph 6 missing from current font.\n",
      "  s, flags=LOAD_NO_SCALE | LOAD_NO_HINTING).horiAdvance\n",
      "/Users/yusixie/miniconda2/envs/attack-graph/lib/python3.7/site-packages/matplotlib/backends/backend_pdf.py:946: RuntimeWarning: Glyph 7 missing from current font.\n",
      "  s, flags=LOAD_NO_SCALE | LOAD_NO_HINTING).horiAdvance\n",
      "/Users/yusixie/miniconda2/envs/attack-graph/lib/python3.7/site-packages/matplotlib/backends/backend_pdf.py:946: RuntimeWarning: Glyph 8 missing from current font.\n",
      "  s, flags=LOAD_NO_SCALE | LOAD_NO_HINTING).horiAdvance\n",
      "/Users/yusixie/miniconda2/envs/attack-graph/lib/python3.7/site-packages/matplotlib/backends/backend_pdf.py:946: RuntimeWarning: Glyph 9 missing from current font.\n",
      "  s, flags=LOAD_NO_SCALE | LOAD_NO_HINTING).horiAdvance\n",
      "/Users/yusixie/miniconda2/envs/attack-graph/lib/python3.7/site-packages/matplotlib/backends/backend_pdf.py:946: RuntimeWarning: Glyph 10 missing from current font.\n",
      "  s, flags=LOAD_NO_SCALE | LOAD_NO_HINTING).horiAdvance\n",
      "/Users/yusixie/miniconda2/envs/attack-graph/lib/python3.7/site-packages/matplotlib/backends/backend_pdf.py:946: RuntimeWarning: Glyph 11 missing from current font.\n",
      "  s, flags=LOAD_NO_SCALE | LOAD_NO_HINTING).horiAdvance\n",
      "/Users/yusixie/miniconda2/envs/attack-graph/lib/python3.7/site-packages/matplotlib/backends/backend_pdf.py:946: RuntimeWarning: Glyph 12 missing from current font.\n",
      "  s, flags=LOAD_NO_SCALE | LOAD_NO_HINTING).horiAdvance\n",
      "/Users/yusixie/miniconda2/envs/attack-graph/lib/python3.7/site-packages/matplotlib/backends/backend_pdf.py:946: RuntimeWarning: Glyph 13 missing from current font.\n",
      "  s, flags=LOAD_NO_SCALE | LOAD_NO_HINTING).horiAdvance\n",
      "/Users/yusixie/miniconda2/envs/attack-graph/lib/python3.7/site-packages/matplotlib/backends/backend_pdf.py:946: RuntimeWarning: Glyph 14 missing from current font.\n",
      "  s, flags=LOAD_NO_SCALE | LOAD_NO_HINTING).horiAdvance\n",
      "/Users/yusixie/miniconda2/envs/attack-graph/lib/python3.7/site-packages/matplotlib/backends/backend_pdf.py:946: RuntimeWarning: Glyph 15 missing from current font.\n",
      "  s, flags=LOAD_NO_SCALE | LOAD_NO_HINTING).horiAdvance\n",
      "/Users/yusixie/miniconda2/envs/attack-graph/lib/python3.7/site-packages/matplotlib/backends/backend_pdf.py:946: RuntimeWarning: Glyph 16 missing from current font.\n",
      "  s, flags=LOAD_NO_SCALE | LOAD_NO_HINTING).horiAdvance\n",
      "/Users/yusixie/miniconda2/envs/attack-graph/lib/python3.7/site-packages/matplotlib/backends/backend_pdf.py:946: RuntimeWarning: Glyph 17 missing from current font.\n",
      "  s, flags=LOAD_NO_SCALE | LOAD_NO_HINTING).horiAdvance\n",
      "/Users/yusixie/miniconda2/envs/attack-graph/lib/python3.7/site-packages/matplotlib/backends/backend_pdf.py:946: RuntimeWarning: Glyph 18 missing from current font.\n",
      "  s, flags=LOAD_NO_SCALE | LOAD_NO_HINTING).horiAdvance\n",
      "/Users/yusixie/miniconda2/envs/attack-graph/lib/python3.7/site-packages/matplotlib/backends/backend_pdf.py:946: RuntimeWarning: Glyph 19 missing from current font.\n",
      "  s, flags=LOAD_NO_SCALE | LOAD_NO_HINTING).horiAdvance\n",
      "/Users/yusixie/miniconda2/envs/attack-graph/lib/python3.7/site-packages/matplotlib/backends/backend_pdf.py:946: RuntimeWarning: Glyph 20 missing from current font.\n",
      "  s, flags=LOAD_NO_SCALE | LOAD_NO_HINTING).horiAdvance\n",
      "/Users/yusixie/miniconda2/envs/attack-graph/lib/python3.7/site-packages/matplotlib/backends/backend_pdf.py:946: RuntimeWarning: Glyph 21 missing from current font.\n",
      "  s, flags=LOAD_NO_SCALE | LOAD_NO_HINTING).horiAdvance\n",
      "/Users/yusixie/miniconda2/envs/attack-graph/lib/python3.7/site-packages/matplotlib/backends/backend_pdf.py:946: RuntimeWarning: Glyph 22 missing from current font.\n",
      "  s, flags=LOAD_NO_SCALE | LOAD_NO_HINTING).horiAdvance\n",
      "/Users/yusixie/miniconda2/envs/attack-graph/lib/python3.7/site-packages/matplotlib/backends/backend_pdf.py:946: RuntimeWarning: Glyph 23 missing from current font.\n",
      "  s, flags=LOAD_NO_SCALE | LOAD_NO_HINTING).horiAdvance\n",
      "/Users/yusixie/miniconda2/envs/attack-graph/lib/python3.7/site-packages/matplotlib/backends/backend_pdf.py:946: RuntimeWarning: Glyph 24 missing from current font.\n",
      "  s, flags=LOAD_NO_SCALE | LOAD_NO_HINTING).horiAdvance\n",
      "/Users/yusixie/miniconda2/envs/attack-graph/lib/python3.7/site-packages/matplotlib/backends/backend_pdf.py:946: RuntimeWarning: Glyph 25 missing from current font.\n",
      "  s, flags=LOAD_NO_SCALE | LOAD_NO_HINTING).horiAdvance\n",
      "/Users/yusixie/miniconda2/envs/attack-graph/lib/python3.7/site-packages/matplotlib/backends/backend_pdf.py:946: RuntimeWarning: Glyph 26 missing from current font.\n",
      "  s, flags=LOAD_NO_SCALE | LOAD_NO_HINTING).horiAdvance\n",
      "/Users/yusixie/miniconda2/envs/attack-graph/lib/python3.7/site-packages/matplotlib/backends/backend_pdf.py:946: RuntimeWarning: Glyph 27 missing from current font.\n",
      "  s, flags=LOAD_NO_SCALE | LOAD_NO_HINTING).horiAdvance\n",
      "/Users/yusixie/miniconda2/envs/attack-graph/lib/python3.7/site-packages/matplotlib/backends/backend_pdf.py:946: RuntimeWarning: Glyph 28 missing from current font.\n",
      "  s, flags=LOAD_NO_SCALE | LOAD_NO_HINTING).horiAdvance\n",
      "/Users/yusixie/miniconda2/envs/attack-graph/lib/python3.7/site-packages/matplotlib/backends/backend_pdf.py:946: RuntimeWarning: Glyph 29 missing from current font.\n",
      "  s, flags=LOAD_NO_SCALE | LOAD_NO_HINTING).horiAdvance\n",
      "/Users/yusixie/miniconda2/envs/attack-graph/lib/python3.7/site-packages/matplotlib/backends/backend_pdf.py:946: RuntimeWarning: Glyph 30 missing from current font.\n",
      "  s, flags=LOAD_NO_SCALE | LOAD_NO_HINTING).horiAdvance\n",
      "/Users/yusixie/miniconda2/envs/attack-graph/lib/python3.7/site-packages/matplotlib/backends/backend_pdf.py:946: RuntimeWarning: Glyph 31 missing from current font.\n",
      "  s, flags=LOAD_NO_SCALE | LOAD_NO_HINTING).horiAdvance\n",
      "/Users/yusixie/miniconda2/envs/attack-graph/lib/python3.7/site-packages/matplotlib/backends/backend_pdf.py:946: RuntimeWarning: Glyph 127 missing from current font.\n",
      "  s, flags=LOAD_NO_SCALE | LOAD_NO_HINTING).horiAdvance\n",
      "/Users/yusixie/miniconda2/envs/attack-graph/lib/python3.7/site-packages/matplotlib/backends/backend_pdf.py:946: RuntimeWarning: Glyph 65534 missing from current font.\n",
      "  s, flags=LOAD_NO_SCALE | LOAD_NO_HINTING).horiAdvance\n"
     ]
    },
    {
     "data": {
      "image/png": "[encoded data removed]",
      "text/plain": [
       "<Figure size 720x576 with 1 Axes>"
      ]
     },
     "metadata": {
      "needs_background": "light"
     },
     "output_type": "display_data"
    }
   ],
   "source": [
    "seaborn.set_context('paper', font_scale=3.4)\n",
    "plt.subplots(figsize=(10, 8))\n",
    "ax = seaborn.boxplot(x='budget', y='centrality', data=data_f, orient='v', showfliers=False)\n",
    "plt.xticks(range(5), ['1%', '5%', '10%', '15%', '20%'])\n",
    "plt.yticks(ax.get_yticks(),  ['%.0f%%' % (i*100) for i in ax.get_yticks()])\n",
    "plt.ylabel('$\\phi(S, A)$')\n",
    "plt.tight_layout()\n",
    "# plt.title(\"% of increases cut(S) - {}\".format(graph_type))\n",
    "plt.savefig('../result/figure/{}_cut_numExp_100.pdf'.format(graph_type))"
   ]
  },
  {
   "cell_type": "code",
   "execution_count": 296,
   "metadata": {},
   "outputs": [
    {
     "data": {
      "text/plain": [
       "(-0.599976897691899, 3.2880583316904446e-50)"
      ]
     },
     "execution_count": 296,
     "metadata": {},
     "output_type": "execute_result"
    }
   ],
   "source": [
    "sci.stats.pearsonr(data_f['centrality'], data_f['Avg. Degree'])"
   ]
  },
  {
   "cell_type": "code",
   "execution_count": 297,
   "metadata": {},
   "outputs": [
    {
     "data": {
      "text/html": [
       "<div>\n",
       "<style scoped>\n",
       "    .dataframe tbody tr th:only-of-type {\n",
       "        vertical-align: middle;\n",
       "    }\n",
       "\n",
       "    .dataframe tbody tr th {\n",
       "        vertical-align: top;\n",
       "    }\n",
       "\n",
       "    .dataframe thead th {\n",
       "        text-align: right;\n",
       "    }\n",
       "</style>\n",
       "<table border=\"1\" class=\"dataframe\">\n",
       "  <thead>\n",
       "    <tr style=\"text-align: right;\">\n",
       "      <th></th>\n",
       "      <th>lambda1_S</th>\n",
       "      <th>centrality</th>\n",
       "      <th>utility</th>\n",
       "      <th>S_size</th>\n",
       "      <th>Avg. Degree</th>\n",
       "      <th>G_size</th>\n",
       "      <th>budget</th>\n",
       "    </tr>\n",
       "  </thead>\n",
       "  <tbody>\n",
       "  </tbody>\n",
       "</table>\n",
       "</div>"
      ],
      "text/plain": [
       "Empty DataFrame\n",
       "Columns: [lambda1_S, centrality, utility, S_size, Avg. Degree, G_size, budget]\n",
       "Index: []"
      ]
     },
     "execution_count": 297,
     "metadata": {},
     "output_type": "execute_result"
    }
   ],
   "source": [
    "data_f[data_f.lambda1_S < 0]"
   ]
  },
  {
   "cell_type": "code",
   "execution_count": 298,
   "metadata": {},
   "outputs": [
    {
     "data": {
      "text/html": [
       "<div>\n",
       "<style scoped>\n",
       "    .dataframe tbody tr th:only-of-type {\n",
       "        vertical-align: middle;\n",
       "    }\n",
       "\n",
       "    .dataframe tbody tr th {\n",
       "        vertical-align: top;\n",
       "    }\n",
       "\n",
       "    .dataframe thead th {\n",
       "        text-align: right;\n",
       "    }\n",
       "</style>\n",
       "<table border=\"1\" class=\"dataframe\">\n",
       "  <thead>\n",
       "    <tr style=\"text-align: right;\">\n",
       "      <th></th>\n",
       "      <th>lambda1_S</th>\n",
       "      <th>centrality</th>\n",
       "      <th>utility</th>\n",
       "      <th>S_size</th>\n",
       "      <th>Avg. Degree</th>\n",
       "      <th>G_size</th>\n",
       "      <th>budget</th>\n",
       "    </tr>\n",
       "  </thead>\n",
       "  <tbody>\n",
       "    <tr>\n",
       "      <th>0</th>\n",
       "      <td>0.023422</td>\n",
       "      <td>-0.000825</td>\n",
       "      <td>0.403088</td>\n",
       "      <td>38.0</td>\n",
       "      <td>5.631579</td>\n",
       "      <td>375.0</td>\n",
       "      <td>0.01</td>\n",
       "    </tr>\n",
       "    <tr>\n",
       "      <th>5</th>\n",
       "      <td>0.022604</td>\n",
       "      <td>-0.000773</td>\n",
       "      <td>0.369305</td>\n",
       "      <td>32.0</td>\n",
       "      <td>5.562500</td>\n",
       "      <td>375.0</td>\n",
       "      <td>0.01</td>\n",
       "    </tr>\n",
       "    <tr>\n",
       "      <th>6</th>\n",
       "      <td>0.017407</td>\n",
       "      <td>-0.000228</td>\n",
       "      <td>0.461488</td>\n",
       "      <td>59.0</td>\n",
       "      <td>6.355932</td>\n",
       "      <td>375.0</td>\n",
       "      <td>0.01</td>\n",
       "    </tr>\n",
       "    <tr>\n",
       "      <th>7</th>\n",
       "      <td>0.016742</td>\n",
       "      <td>-0.000647</td>\n",
       "      <td>0.524107</td>\n",
       "      <td>54.0</td>\n",
       "      <td>6.944445</td>\n",
       "      <td>375.0</td>\n",
       "      <td>0.01</td>\n",
       "    </tr>\n",
       "    <tr>\n",
       "      <th>8</th>\n",
       "      <td>0.017993</td>\n",
       "      <td>-0.001088</td>\n",
       "      <td>0.552898</td>\n",
       "      <td>48.0</td>\n",
       "      <td>6.937500</td>\n",
       "      <td>375.0</td>\n",
       "      <td>0.01</td>\n",
       "    </tr>\n",
       "    <tr>\n",
       "      <th>...</th>\n",
       "      <td>...</td>\n",
       "      <td>...</td>\n",
       "      <td>...</td>\n",
       "      <td>...</td>\n",
       "      <td>...</td>\n",
       "      <td>...</td>\n",
       "      <td>...</td>\n",
       "    </tr>\n",
       "    <tr>\n",
       "      <th>492</th>\n",
       "      <td>0.610457</td>\n",
       "      <td>-0.010465</td>\n",
       "      <td>0.489980</td>\n",
       "      <td>29.0</td>\n",
       "      <td>5.172414</td>\n",
       "      <td>375.0</td>\n",
       "      <td>0.20</td>\n",
       "    </tr>\n",
       "    <tr>\n",
       "      <th>494</th>\n",
       "      <td>0.472607</td>\n",
       "      <td>-0.004121</td>\n",
       "      <td>0.557353</td>\n",
       "      <td>50.0</td>\n",
       "      <td>5.920000</td>\n",
       "      <td>375.0</td>\n",
       "      <td>0.20</td>\n",
       "    </tr>\n",
       "    <tr>\n",
       "      <th>497</th>\n",
       "      <td>0.800296</td>\n",
       "      <td>-0.007482</td>\n",
       "      <td>0.445670</td>\n",
       "      <td>16.0</td>\n",
       "      <td>5.250000</td>\n",
       "      <td>375.0</td>\n",
       "      <td>0.20</td>\n",
       "    </tr>\n",
       "    <tr>\n",
       "      <th>498</th>\n",
       "      <td>0.481232</td>\n",
       "      <td>-0.010630</td>\n",
       "      <td>0.548254</td>\n",
       "      <td>40.0</td>\n",
       "      <td>5.750000</td>\n",
       "      <td>375.0</td>\n",
       "      <td>0.20</td>\n",
       "    </tr>\n",
       "    <tr>\n",
       "      <th>499</th>\n",
       "      <td>0.417900</td>\n",
       "      <td>-0.014396</td>\n",
       "      <td>0.641862</td>\n",
       "      <td>48.0</td>\n",
       "      <td>6.666667</td>\n",
       "      <td>375.0</td>\n",
       "      <td>0.20</td>\n",
       "    </tr>\n",
       "  </tbody>\n",
       "</table>\n",
       "<p>285 rows × 7 columns</p>\n",
       "</div>"
      ],
      "text/plain": [
       "     lambda1_S  centrality   utility  S_size  Avg. Degree  G_size  budget\n",
       "0     0.023422   -0.000825  0.403088    38.0     5.631579   375.0    0.01\n",
       "5     0.022604   -0.000773  0.369305    32.0     5.562500   375.0    0.01\n",
       "6     0.017407   -0.000228  0.461488    59.0     6.355932   375.0    0.01\n",
       "7     0.016742   -0.000647  0.524107    54.0     6.944445   375.0    0.01\n",
       "8     0.017993   -0.001088  0.552898    48.0     6.937500   375.0    0.01\n",
       "..         ...         ...       ...     ...          ...     ...     ...\n",
       "492   0.610457   -0.010465  0.489980    29.0     5.172414   375.0    0.20\n",
       "494   0.472607   -0.004121  0.557353    50.0     5.920000   375.0    0.20\n",
       "497   0.800296   -0.007482  0.445670    16.0     5.250000   375.0    0.20\n",
       "498   0.481232   -0.010630  0.548254    40.0     5.750000   375.0    0.20\n",
       "499   0.417900   -0.014396  0.641862    48.0     6.666667   375.0    0.20\n",
       "\n",
       "[285 rows x 7 columns]"
      ]
     },
     "execution_count": 298,
     "metadata": {},
     "output_type": "execute_result"
    }
   ],
   "source": [
    "data_f[data_f.centrality < 0]"
   ]
  },
  {
   "cell_type": "code",
   "execution_count": null,
   "metadata": {},
   "outputs": [],
   "source": []
  },
  {
   "cell_type": "code",
   "execution_count": 224,
   "metadata": {},
   "outputs": [
    {
     "data": {
      "text/plain": [
       "S_size         3.000000\n",
       "Avg. Degree    1.944445\n",
       "dtype: float32"
      ]
     },
     "execution_count": 224,
     "metadata": {},
     "output_type": "execute_result"
    }
   ],
   "source": [
    "data_f[data_f.lambda1_S < 0][['S_size', 'Avg. Degree']].mean()"
   ]
  },
  {
   "cell_type": "code",
   "execution_count": 225,
   "metadata": {},
   "outputs": [
    {
     "data": {
      "text/plain": [
       "S_size         66.872337\n",
       "Avg. Degree     6.911168\n",
       "dtype: float32"
      ]
     },
     "execution_count": 225,
     "metadata": {},
     "output_type": "execute_result"
    }
   ],
   "source": [
    "data_f[data_f.lambda1_S >= 0][['S_size', 'Avg. Degree']].mean()"
   ]
  },
  {
   "cell_type": "code",
   "execution_count": 226,
   "metadata": {},
   "outputs": [
    {
     "data": {
      "text/plain": [
       "Ttest_indResult(statistic=-7.204311264800589, pvalue=6.978838116882321e-12)"
      ]
     },
     "execution_count": 226,
     "metadata": {},
     "output_type": "execute_result"
    }
   ],
   "source": [
    "sci.stats.ttest_ind(data_f[data_f.lambda1_S < 0]['Avg. Degree'], data_f[data_f.lambda1_S >= 0]['Avg. Degree'])"
   ]
  },
  {
   "cell_type": "code",
   "execution_count": 227,
   "metadata": {},
   "outputs": [
    {
     "data": {
      "text/plain": [
       "Ttest_indResult(statistic=-8.641977324429579, pvalue=6.920009922266447e-16)"
      ]
     },
     "execution_count": 227,
     "metadata": {},
     "output_type": "execute_result"
    }
   ],
   "source": [
    "sci.stats.ttest_ind(data_f[data_f.lambda1_S < 0]['S_size'], data_f[data_f.lambda1_S >= 0]['S_size'])"
   ]
  },
  {
   "cell_type": "code",
   "execution_count": null,
   "metadata": {},
   "outputs": [],
   "source": []
  },
  {
   "cell_type": "code",
   "execution_count": null,
   "metadata": {},
   "outputs": [],
   "source": []
  }
 ],
 "metadata": {
  "kernelspec": {
   "display_name": "Python 3",
   "language": "python",
   "name": "python3"
  },
  "language_info": {
   "codemirror_mode": {
    "name": "ipython",
    "version": 3
   },
   "file_extension": ".py",
   "mimetype": "text/x-python",
   "name": "python",
   "nbconvert_exporter": "python",
   "pygments_lexer": "ipython3",
   "version": "3.7.5"
  },
  "latex_envs": {
   "LaTeX_envs_menu_present": true,
   "autoclose": false,
   "autocomplete": false,
   "bibliofile": "biblio.bib",
   "cite_by": "apalike",
   "current_citInitial": 1,
   "eqLabelWithNumbers": true,
   "eqNumInitial": 1,
   "hotkeys": {
    "equation": "Ctrl-E",
    "itemize": "Ctrl-I"
   },
   "labels_anchors": false,
   "latex_user_defs": false,
   "report_style_numbering": true,
   "user_envs_cfg": false
  }
 },
 "nbformat": 4,
 "nbformat_minor": 2
}
