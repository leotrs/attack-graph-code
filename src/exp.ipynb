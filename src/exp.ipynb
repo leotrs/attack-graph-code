{
 "cells": [
  {
   "cell_type": "code",
   "execution_count": 1,
   "metadata": {},
   "outputs": [],
   "source": [
    "import torch\n",
    "import numpy as np\n",
    "import torch.nn as nn\n",
    "import networkx as nx\n",
    "import pandas as pd\n",
    "import scipy.linalg as LIN\n",
    "import matplotlib.pyplot as plt\n",
    "\n",
    "plt.rcParams['figure.figsize'] = (12, 10)\n",
    "plt.rcParams['font.weight'] = 'medium'\n",
    "\n",
    "%matplotlib inline"
   ]
  },
  {
   "cell_type": "code",
   "execution_count": 2,
   "metadata": {},
   "outputs": [],
   "source": [
    "class Threat_Model(nn.Module):\n",
    "    def __init__(self, S, S_prime, Alpha, budget, G):\n",
    "        super(Threat_Model, self).__init__()\n",
    "        self.S = S\n",
    "        self.S_prime = S_prime\n",
    "        self.x_s = torch.zeros(size)    # characteristic vector of S\n",
    "        self.x_s[S] = 1\n",
    "        self.alpha_1, self.alpha_2, self.alpha_3 = Alpha\n",
    "        self.budget = budget\n",
    "        self.used_budget = 0 \n",
    "        self.lambda1_S_prime = 0\n",
    "        self.lambda1_S = 0\n",
    "        self.normalizedCut = 0\n",
    "        self.lambda1 = 0\n",
    "        \n",
    "        adj = nx.adjacency_matrix(G).todense()\n",
    "        self.mask = torch.tensor(adj, dtype=torch.float32)\n",
    "        eigVals, eigVecs = torch.symeig(self.mask, eigenvectors=True)\n",
    "        # eig-vector associated with the largest eig-value of A (since mask = A)\n",
    "        self.eig_v = eigVecs[:, -1]\n",
    "        self.original_lambda1 = eigVals[-1]\n",
    "        \n",
    "        self.adj_tensor = torch.tensor(adj, dtype=torch.float32).requires_grad_(True)\n",
    "        self.adj_tensor = nn.Parameter(self.adj_tensor)\n",
    "        # masking the gradients backpropagated to adj_tensor\n",
    "        self.adj_tensor.register_hook(lambda x: x * self.mask)\n",
    "        \n",
    "    def forward(self):\n",
    "        '''Compute the loss function given current adjacency matrix.'''\n",
    "        # Degree and Laplacian matrices\n",
    "        size = self.adj_tensor.size()[0]\n",
    "        D = torch.diag(torch.mm(self.adj_tensor, torch.ones(size).view(-1, 1)).squeeze())\n",
    "        L = D - self.adj_tensor\n",
    "    \n",
    "        # select the sub-matrix corresponding to S\n",
    "        adj_tensor_S = torch.index_select(torch.index_select(\n",
    "            self.adj_tensor, 0, self.S), 1, self.S)\n",
    "        adj_tensor_S_prime = torch.index_select(torch.index_select(\n",
    "            self.adj_tensor, 0, self.S_prime), 1, self.S_prime)\n",
    "    \n",
    "        # all sorts of largest eigenvalues \n",
    "        self.lambda1 = torch.max(torch.symeig(self.adj_tensor, eigenvectors=True)[0])\n",
    "        self.lambda1_S = torch.max(torch.symeig(adj_tensor_S, eigenvectors=True)[0])\n",
    "        self.lambda1_S_prime = torch.max(torch.symeig(adj_tensor_S_prime, eigenvectors=True)[0])\n",
    "        \n",
    "        # centrality measure\n",
    "        # Before:\n",
    "        #self.normalizedCut = (torch.mm(self.x_s.view(1, -1), torch.mm(L, self.x_s.view(-1, 1))) /\n",
    "        #                      (0.5 * adj_tensor_S.sum()))\n",
    "        # Now:\n",
    "        self.normalizedCut = (torch.mm(self.x_s.view(1, -1), torch.mm(L, self.x_s.view(-1, 1))) / \n",
    "                              torch.mm(self.x_s.view(1, -1), torch.mm(D, self.x_s.view(-1, 1))))\n",
    "        \n",
    "        # the loss is minus the objective function\n",
    "        Loss = -1 * (self.alpha_1 * self.lambda1_S -\n",
    "                     self.alpha_2 * self.lambda1_S_prime +\n",
    "                     self.alpha_3 * self.normalizedCut)\n",
    "        return Loss\n",
    "    \n",
    "    \n",
    "    # check if the attacker still has budget\n",
    "    def update_used_budget(self):\n",
    "        # make sure the attacker has made some attack\n",
    "        if self.adj_tensor.grad != None:\n",
    "            current_used_budget = torch.abs(\n",
    "                torch.mm(self.eig_v.view(1, -1), torch.mm(self.aggre_change, self.eig_v.view(-1, 1))))\n",
    "            self.used_budget += current_used_budget \n",
    "    \n",
    "    # return the results that we are interested in\n",
    "    def getRet(self):\n",
    "        return self.lambda1_S, self.lambda1, self.normalizedCut\n",
    "    \n",
    "    \n",
    "    def get_used_budget(self):\n",
    "        return torch.Tensor(self.used_budget).clone()"
   ]
  },
  {
   "cell_type": "code",
   "execution_count": 5,
   "metadata": {},
   "outputs": [
    {
     "name": "stdout",
     "output_type": "stream",
     "text": [
      "0\n",
      "10\n",
      "20\n",
      "30\n",
      "40\n",
      "50\n",
      "60\n",
      "70\n",
      "80\n",
      "90\n"
     ]
    }
   ],
   "source": [
    "# Create graph to run attack on\n",
    "size = 1000\n",
    "G = nx.watts_strogatz_graph(size, 10, 0.2)\n",
    "# G = nx.barabasi_albert_graph(size, 4)\n",
    "adj = nx.to_numpy_array(G)\n",
    "\n",
    "# The target subgraph is a random node plus all its neighbors\n",
    "center = np.random.choice(G)\n",
    "S = list(G.neighbors(center)) + [center]\n",
    "S_prime = list(set(G.nodes()) - set(S))\n",
    "S = torch.LongTensor(S)\n",
    "S_prime = torch.LongTensor(S_prime)\n",
    "\n",
    "# Set parameters for objective function and optimization\n",
    "alpha1, alpha2, alpha3 = 0.05, 0.05, 0.9\n",
    "learning_rate = 1e-1\n",
    "Attacker = Threat_Model(S, S_prime, [alpha1, alpha2, alpha3], 0.1, G)\n",
    "opt = torch.optim.Adam(Attacker.parameters(), lr=learning_rate)\n",
    "\n",
    "# Run gradient descent\n",
    "ret = {'lambda_1': [], 'lambda_1_S': [], 'centrality': []}\n",
    "num_iter = 100\n",
    "Losses = []\n",
    "for i in range(num_iter):\n",
    "    if i % 10 == 0:\n",
    "        print(i)\n",
    "    Loss = Attacker()\n",
    "    Losses.append(Loss.item())\n",
    "    lambda1_S, lambda1, normalizedCut = Attacker.getRet()\n",
    "    ret['lambda_1'].append(lambda1.item())\n",
    "    ret['lambda_1_S'].append(lambda1_S.item())\n",
    "    ret['centrality'].append(normalizedCut.item())\n",
    "    opt.zero_grad()\n",
    "    Loss.backward()\n",
    "    opt.step()\n",
    "            \n",
    "ret = pd.DataFrame(ret) "
   ]
  },
  {
   "cell_type": "code",
   "execution_count": 6,
   "metadata": {},
   "outputs": [
    {
     "data": {
      "image/png": "[encoded data removed]",
      "text/plain": [
       "<Figure size 432x288 with 1 Axes>"
      ]
     },
     "metadata": {
      "needs_background": "light"
     },
     "output_type": "display_data"
    }
   ],
   "source": [
    "ret.plot(kind='line')\n",
    "plt.xlabel('iterations')\n",
    "plt.title(r'$\\alpha_1={:.2f}, \\alpha_2={:.2f}, \\alpha_3={:.2f}$'.format(alpha1, alpha2, alpha3));"
   ]
  },
  {
   "cell_type": "code",
   "execution_count": null,
   "metadata": {},
   "outputs": [],
   "source": []
  }
 ],
 "metadata": {
  "kernelspec": {
   "display_name": "Python 3",
   "language": "python",
   "name": "python3"
  },
  "language_info": {
   "codemirror_mode": {
    "name": "ipython",
    "version": 3
   },
   "file_extension": ".py",
   "mimetype": "text/x-python",
   "name": "python",
   "nbconvert_exporter": "python",
   "pygments_lexer": "ipython3",
   "version": "3.7.5"
  },
  "latex_envs": {
   "LaTeX_envs_menu_present": true,
   "autoclose": false,
   "autocomplete": false,
   "bibliofile": "biblio.bib",
   "cite_by": "apalike",
   "current_citInitial": 1,
   "eqLabelWithNumbers": true,
   "eqNumInitial": 1,
   "hotkeys": {
    "equation": "Ctrl-E",
    "itemize": "Ctrl-I"
   },
   "labels_anchors": false,
   "latex_user_defs": false,
   "report_style_numbering": true,
   "user_envs_cfg": false
  }
 },
 "nbformat": 4,
 "nbformat_minor": 2
}
