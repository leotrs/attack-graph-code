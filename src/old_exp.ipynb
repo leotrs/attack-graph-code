{
 "cells": [
  {
   "cell_type": "markdown",
   "metadata": {},
   "source": [
    "# Some imports and helper code"
   ]
  },
  {
   "cell_type": "code",
<<<<<<< HEAD
   "execution_count": 1,
=======
   "execution_count": 137,
>>>>>>> 3eeba20af6d37bbfd8a118a2af8f14679200ccee
   "metadata": {},
   "outputs": [],
   "source": [
    "import torch\n",
    "import numpy as np\n",
    "import torch.nn as nn\n",
    "import networkx as nx\n",
    "from spectrum_attack import spectrum_attack\n",
    "import matplotlib.pylab as plt\n",
    "\n",
    "np.random.seed(1)"
   ]
  },
  {
   "cell_type": "code",
   "execution_count": 2,
   "metadata": {},
   "outputs": [],
   "source": [
<<<<<<< HEAD
    "def plot_results(results, alphas):\n",
    "    plt.figure()\n",
    "    results[['lambda', 'lambda_sub', 'centrality']].plot(kind='line')\n",
    "    plt.xlabel('iterations')\n",
    "    title_template = r'$\\alpha_1={:.2f}, \\alpha_2={:.2f}, \\alpha_3={:.2f}$'\n",
    "    plt.title(title_template.format(*alphas))\n",
    "    \n",
    "    \n",
    "def plot_adj_matrices(graph, final_adj):\n",
    "    _, axes = plt.subplots(1, 2, figsize=(10, 5))\n",
    "    axes[0].imshow(nx.to_numpy_array(graph))\n",
    "    axes[0].set_title('before attack')\n",
    "    axes[1].imshow(final_adj.A)\n",
    "    axes[1].set_title('after attack')"
   ]
  },
  {
   "cell_type": "markdown",
=======
    "np.random.seed(1)"
   ]
  },
  {
   "cell_type": "code",
   "execution_count": 9,
>>>>>>> 3eeba20af6d37bbfd8a118a2af8f14679200ccee
   "metadata": {},
   "source": [
<<<<<<< HEAD
    "# Run the attack on a BA network (old nodes)"
   ]
  },
  {
   "cell_type": "markdown",
   "metadata": {},
   "source": [
    "In this experiment, I'll use a subgraph made of three nodes that are 'old' in the BA growth process, i.e., nodes of large degree."
   ]
  },
  {
   "cell_type": "code",
   "execution_count": 3,
   "metadata": {},
=======
    "# get left and right eigenvectors associated with the \n",
    "# largest eigenvalue. \n",
    "def getLREigVec(mat):\n",
    "    eigVals_, eigL_, eigR_ = LIN.eig(mat, left=True)\n",
    "    idx_max = np.argmax(eigVals_)\n",
    "    t = eigL_[:, idx_max]\n",
    "    h = eigR_[:, idx_max]\n",
    "    return t, h\n",
    "\n",
    "# compute gradient\n",
    "def gradient(adjMat, S, Alpha, J):\n",
    "    n = adjMat.shape[0]\n",
    "    alpha1, alpha2, alpha3 = Alpha\n",
    "    I = np.identity(n)\n",
    "    \n",
    "    ## for 1st term, to increase the largest eigenvalue\n",
    "    ## of the subgraph\n",
    "    S_adjMat = adjMat[np.ix_(S, S)]\n",
    "    t_S, h_S = getLREigVec(S_adjMat)\n",
    "    c_1 = np.dot(t_S, h_S)\n",
    "    P_1 = np.outer(t_S, h_S)\n",
    "    g_1 = np.zeros(adjMat.shape)\n",
    "    g_1[np.ix_(S, S)] = (P_1 + np.transpose(P_1) - np.multiply(P_1, np.identity(len(S)))) / c_1\n",
    "    g_1 = np.multiply(g_1, J)\n",
    "\n",
    "    ## for 2nd term, to not increase the largest eigenvalue\n",
    "    ## too much\n",
    "    t, h = getLREigVec(adjMat)\n",
    "    c_2 = np.dot(t, h)\n",
    "    P_2 = np.outer(t, h)\n",
    "    g_2 = ( P_2 + np.transpose(P_2) - np.multiply(P_2, I) ) / c_2\n",
    "    g_2 = np.multiply(g_2, J)\n",
    "\n",
    "    ## for 3rd term, to increase the centrality of the subgraph\n",
    "    x_S = np.zeros(len(G.nodes))\n",
    "    x_S[S] = 1\n",
    "    X_S = np.outer(x_S, x_S)\n",
    "    P_3 = np.transpose( 2 * X_S - (np.multiply(X_S, I)) )\n",
    "    g_3 = np.dot(np.multiply(P_3, I), np.ones((n, n))) - P_3\n",
    "    g_3 = g_3 + np.transpose(g_3) - np.multiply(g_3, I)\n",
    "    # no need to change the edges' weights within the subgraph\n",
    "#     g_3[np.ix_(S, S)] = 0\n",
    "    g_3 = np.multiply(g_3, J)\n",
    "    \n",
    "    g = np.real( alpha1 * g_1 - alpha2 * g_2 + (alpha3/len(S)) * g_3 )\n",
    "    return g\n",
    "\n",
    "# get the largest eigenvalue\n",
    "def maxEig(mat):\n",
    "    eigVals = LIN.eigvals(mat)\n",
    "    return np.max(eigVals)\n",
    "\n",
    "# get a submatrix of mat indexed by S\n",
    "def getSubmat(mat, S):\n",
    "    return mat[np.ix_(S, S)]\n",
    "\n",
    "# get the Laplacian matrix corresponding to mat\n",
    "def getL(mat):\n",
    "    degsVec = np.dot(mat, np.ones(mat.shape[1]))\n",
    "    return np.diag(degsVec) - mat\n",
    "\n",
    "# compute centrality\n",
    "def getCent(L, x_S):\n",
    "    return np.real( np.dot(x_S, np.dot(L, x_S)) / len(S) )"
   ]
  },
  {
   "cell_type": "code",
   "execution_count": 4,
   "metadata": {},
   "outputs": [],
   "source": []
  },
  {
   "cell_type": "code",
   "execution_count": 10,
   "metadata": {
    "scrolled": true
   },
>>>>>>> 3eeba20af6d37bbfd8a118a2af8f14679200ccee
   "outputs": [
    {
     "name": "stdout",
     "output_type": "stream",
     "text": [
<<<<<<< HEAD
      "(0) utility: 1.788, lambda_1: 6.928, lambda_1_S: 2.000\n",
      "(10) utility: 2.146, lambda_1: 7.111, lambda_1_S: 2.552\n",
      "(20) utility: 2.463, lambda_1: 7.358, lambda_1_S: 3.074\n",
      "(30) utility: 2.747, lambda_1: 7.655, lambda_1_S: 3.569\n",
      "(40) utility: 3.005, lambda_1: 7.987, lambda_1_S: 4.041\n",
      "(50) utility: 3.245, lambda_1: 8.343, lambda_1_S: 4.495\n",
      "(60) utility: 3.471, lambda_1: 8.716, lambda_1_S: 4.933\n",
      "(70) utility: 3.687, lambda_1: 9.101, lambda_1_S: 5.359\n",
      "(80) utility: 3.896, lambda_1: 9.494, lambda_1_S: 5.775\n",
      "(90) utility: 4.099, lambda_1: 9.893, lambda_1_S: 6.183\n"
=======
      "Lambda_S: 1.4142      Lambda: 6.6199      Centrality: 4      Utility: 4.0000\n",
      "Lambda_S: 0.4714      Lambda: 6.8604      Centrality: 5      Utility: 5.3333\n",
      "Lambda_S: 0.4714      Lambda: 7.2597      Centrality: 6      Utility: 6.6667\n",
      "Lambda_S: 1.4142      Lambda: 7.8711      Centrality: 8      Utility: 8.0000\n",
      "Lambda_S: 2.3570      Lambda: 8.6903      Centrality: 9      Utility: 9.3333\n",
      "Lambda_S: 3.2998      Lambda: 9.6635      Centrality: 10      Utility: 10.6667\n",
      "Lambda_S: 4.2426      Lambda: 10.7369      Centrality: 11      Utility: 12.0000\n",
      "Lambda_S: 5.1854      Lambda: 11.8746      Centrality: 13      Utility: 13.3333\n",
      "Lambda_S: 6.1283      Lambda: 13.0548      Centrality: 14      Utility: 14.6667\n",
      "Lambda_S: 7.0711      Lambda: 14.2643      Centrality: 15      Utility: 16.0000\n"
>>>>>>> 3eeba20af6d37bbfd8a118a2af8f14679200ccee
     ]
    }
   ],
   "source": [
<<<<<<< HEAD
    "graph = nx.barabasi_albert_graph(100, 2)\n",
    "subgraph = [1, 2, 3]\n",
    "alphas = [0.5, 0.3, 0.2]\n",
    "results, final_adj = spectrum_attack(graph, subgraph, alphas, verbose=True)"
   ]
  },
  {
   "cell_type": "markdown",
   "metadata": {},
   "source": [
    "## Plot the behavior of $\\lambda_1$ and $\\lambda_1^S$"
=======
    "n = 100\n",
    "G = nx.barabasi_albert_graph(n, 2)\n",
    "\n",
    "adjMat = np.asarray(nx.adjacency_matrix(G).todense())\n",
    "J = np.copy(adjMat)\n",
    "    \n",
    "# trade-off parameters\n",
    "alpha1, alpha2, alpha3 = 0, 0, 1\n",
    "ret = {'Lambda': [], 'Lambda_S': [], 'Centrality': [], 'Utility': []}\n",
    "Gradient = []\n",
    "\n",
    "# subgraph is the induced subgraph of S\n",
    "center = np.random.choice(range(G.order()))\n",
    "S = list(G.neighbors(center)) + [center]\n",
    "# S = [1, 2, 3]\n",
    "# x_S is the characteristic vector of S\n",
    "x_S = np.zeros(len(G.nodes))\n",
    "x_S[S] = 1\n",
    "\n",
    "Iter = 100\n",
    "lr = 0.1\n",
    "adjMat_0 = np.copy(adjMat)\n",
    "\n",
    "# gradient ascent \n",
    "for ii in range(Iter):\n",
    "    # compute eigenvalues\n",
    "    lambda_1 = np.real(maxEig(adjMat))\n",
    "    lambda_1_S = np.real(maxEig(getSubmat(adjMat, S)))\n",
    "    \n",
    "    # compute centrality\n",
    "    L = getL(adjMat)\n",
    "    Cent = getCent(L, x_S)\n",
    "    \n",
    "    # compute utility\n",
    "    utility = np.real( alpha1 * lambda_1_S - alpha2 * lambda_1 + alpha3 * Cent )\n",
    "    \n",
    "    # printing and recording intermediate results\n",
    "    if ii % 10 == 0:\n",
    "        print(\"Lambda_S: %.4f      Lambda: %.4f      Centrality: %i      Utility: %.4f\" % (lambda_1_S, lambda_1, Cent, utility))\n",
    "    ret['Lambda'].append(lambda_1)\n",
    "    ret['Lambda_S'].append(lambda_1_S)\n",
    "    ret['Centrality'].append(Cent)\n",
    "    ret['Utility'].append(utility)\n",
    "    \n",
    "    # update gradient\n",
    "    g = gradient(adjMat, S, [alpha1, alpha2, alpha3], J)\n",
    "    Gradient.append(np.copy(g))\n",
    "    adjMat = adjMat + lr * g\n"
   ]
  },
  {
   "cell_type": "code",
   "execution_count": 11,
   "metadata": {},
   "outputs": [
    {
     "data": {
      "text/plain": [
       "array([[ 0.        ,  0.        , -0.66666667],\n",
       "       [ 0.        ,  0.        , -0.66666667],\n",
       "       [-0.66666667, -0.66666667,  0.        ]])"
      ]
     },
     "execution_count": 11,
     "metadata": {},
     "output_type": "execute_result"
    }
   ],
   "source": [
    "g[np.ix_(S, S)]"
>>>>>>> 3eeba20af6d37bbfd8a118a2af8f14679200ccee
   ]
  },
  {
   "cell_type": "code",
<<<<<<< HEAD
   "execution_count": 4,
   "metadata": {},
=======
   "execution_count": 15,
   "metadata": {},
   "outputs": [
    {
     "data": {
      "text/plain": [
       "array([[1., 1., 1., 0., 0., 0., 0., 0., 0., 0.],\n",
       "       [1., 1., 1., 0., 0., 0., 0., 0., 0., 0.],\n",
       "       [1., 1., 1., 0., 0., 0., 0., 0., 0., 0.],\n",
       "       [0., 0., 0., 0., 0., 0., 0., 0., 0., 0.],\n",
       "       [0., 0., 0., 0., 0., 0., 0., 0., 0., 0.],\n",
       "       [0., 0., 0., 0., 0., 0., 0., 0., 0., 0.],\n",
       "       [0., 0., 0., 0., 0., 0., 0., 0., 0., 0.],\n",
       "       [0., 0., 0., 0., 0., 0., 0., 0., 0., 0.],\n",
       "       [0., 0., 0., 0., 0., 0., 0., 0., 0., 0.],\n",
       "       [0., 0., 0., 0., 0., 0., 0., 0., 0., 0.]])"
      ]
     },
     "execution_count": 15,
     "metadata": {},
     "output_type": "execute_result"
    }
   ],
   "source": [
    "idx = [0, 1, 2]\n",
    "a = np.zeros(10)\n",
    "a[idx] = 1\n",
    "np.outer(a, a)"
   ]
  },
  {
   "cell_type": "code",
   "execution_count": 48,
   "metadata": {
    "scrolled": true
   },
>>>>>>> 3eeba20af6d37bbfd8a118a2af8f14679200ccee
   "outputs": [
    {
     "data": {
      "text/plain": [
       "<Figure size 432x288 with 0 Axes>"
      ]
     },
<<<<<<< HEAD
=======
     "execution_count": 48,
>>>>>>> 3eeba20af6d37bbfd8a118a2af8f14679200ccee
     "metadata": {},
     "output_type": "display_data"
    },
    {
     "data": {
<<<<<<< HEAD
      "image/png": "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\n",
=======
      "image/png": "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\n",
>>>>>>> 3eeba20af6d37bbfd8a118a2af8f14679200ccee
      "text/plain": [
       "<Figure size 432x288 with 1 Axes>"
      ]
     },
     "metadata": {
      "needs_background": "light"
     },
     "output_type": "display_data"
    }
   ],
   "source": [
    "plot_results(results, alphas)"
   ]
  },
  {
   "cell_type": "markdown",
   "metadata": {},
   "source": [
    "What the attacker wants to do is increase the green and orange lines, while maintaining the blue line as constant as possible. In this plot, the blue line seems to increase more slowly than the other two, which means we are on the right track, though not quite there yet."
   ]
  },
  {
   "cell_type": "markdown",
   "metadata": {},
   "source": [
    "## Plot the original and final adjacency matrices"
   ]
  },
  {
   "cell_type": "code",
   "execution_count": 5,
   "metadata": {},
   "outputs": [
    {
     "data": {
      "image/png": "iVBORw0KGgoAAAANSUhEUgAAAlAAAAEtCAYAAADHtl7HAAAABHNCSVQICAgIfAhkiAAAAAlwSFlzAAALEgAACxIB0t1+/AAAADh0RVh0U29mdHdhcmUAbWF0cGxvdGxpYiB2ZXJzaW9uMy4xLjIsIGh0dHA6Ly9tYXRwbG90bGliLm9yZy8li6FKAAAgAElEQVR4nO3de/AlZX3n8c/XGWAYmBkCpATmwpDVmGXdqKkJA7ibdYVdibLBeOF+8ZIl2SKJUVxERRkETdxKvGzFMoWiglwGHHHRrV2JjFquoqODl0VhjUhmhkEQFOYiKAP43T+6+/fr+f3Opfucp7uf7n6/qn4159r9dPc5zzzn+/320+buAgAAQHHPaLoBAAAAbcMACgAAoCQGUAAAACUxgAIAACiJARQAAEBJDKAAAABKYgDVEWa2xcxOnPC9zzGz75rZbjP7y9Bti4WZrTYzN7OFTbcFwPTM7Aoz+5mZPdh0W0Kjv4ofAyhI0kWSvuTuS9z9vzfZEDP7hJldMeexiQeHALrJzFZJulDS0e5+WBMDDvqrfmMABUk6UtIPJnkjv44ANGSVpJ+7+0MhFkZfhrIYQHXL75vZXWb2qJl93MwWZU+Y2clpmm6Hmd1uZr+bPv5FSf9e0t+b2S/M7LfNbJmZXWNmD5vZVjO7xMyekb7+NWb2NTN7v5n9XNK69PHXmdnd6bpvNbMjhzXSzD5lZg+a2U4z+4qZ/av08fMlnSXporQtnzOzTyrpKD+XPnbRqGWkz+1vZn+Xtn2nmX3VzPYf0I5Xpr8WnzvtjgcQnpldbGY/TssL7jKzP04fP1HSFyQdkfYLn5D0lfRtO9LHjktfO7RvSiNWF5jZjyT9aEgb6K8wmLvz14E/SVskfV/SSkkHS/qapCvS514g6SFJayUtkHRe+vr90ue/LOlPcsu6RtItkpZIWi3pnyS9Pn3uNZKekvQXkhZK2l/SKZLukfQv08cukXT7iLa+Ll32fpI+IOm7uec+kbV7zradWGIZH0q3aXm6vcenr1stydM2vjZt87OaPnb88cff4D9Jr5Z0hJIf+6dJekzS4elzL5K0Pffame937rGRfVP6+i+kfeb+Q9pAf8Xf4M9n0w3gL9CBTL60f5a7/1JJP05vf1jS5XNe/0NJ/y69/WWlA6j0C7xHSV1B9to/lfTl9PZrJG2bs6z/rXSAld5/hqTHJR1ZoN0HpZ3EsvR+oQ5p2DLSdf9S0vMGvC7rkN4s6S5JK5o+bvzxx1/xP0nflXRKervIAGpk35S+/sUl1k9/xd/MHym8brkvd3urkl9uUlLjdGGavtthZjuURKqOmLsASYdK2id9f35Zy4esJ1v+B3PLfkSSzXmPJMnMFpjZ36Rh+V1KOptsvYWMWcahkhZJ+vGIRfxXSR9y9+1F1wmgfmZ2bq70YIek56pEX6FifdPc/iy/fvorDMUAqltW5m6vkvST9PZ9kt7t7gfl/ha7+w0DlvEzSU8q6Xjyy7o/d9/nvOc+SX86Z/n7u/vtA5Z/ppKw+olKfoGtTh+3Icse9NioZfxM0q8k/YsBy8n8R0mXmNkrR7wGQIPSWqWPSPpzSYe4+0FKyhRsyFsG9R1F+qZB78vQX2EoBlDdcoGZrTCzgyW9XdKN6eMfkfRnZrbWEgeY2cvMbMncBbj705JukvRuM1uSdmJvknTtiPX+g6S35oorl5nZq4e8domkJyT9XNJiSe+Z8/xPJf3WmMeGLsPdfy3pY5LeZ2ZHpL/+jjOz/XLv/4GkkyR9yMz+aMR2AWjOAUoGIw9Lkpm9VkkEapiHJf1ae/cVZfqmQeivMBQDqG65XtI/SrpXSUj4Ckly982S/rOkv5f0qJJixNeMWM5fKCnWvFfSV9PlfmzYi939M5LeK2l9GqL+vqQ/HPLya5SkBO9Xktf/xpznr5J0dBpy/x/pY3+t5BfYDjN7c4FlvFnSnZK+pSRk/17N+ay7+/cknSzpI2Y2rK0AGuLud0n6O0lfVzIo+ddKTo4Z9vrHJb1b0tfSvuLYkn3TIPRXGMrcR0UvAQAAMBcRKAAAgJIYQAEAAJQ01QDKzE4ysx+a2T1mdnGoRgFAHejDAExq4hooM1ugZIbq/yBpu5ICuDPSwj8AiBp9GIBpTBOBOkbSPe5+r7vvkbReyVwXANAG9GEAJjbN1aeXa+8ZXLcrudbaUPvafr5IB+z12G//7uMzt//p/y6eojkAmjDqO/wrPaY9/sSwiQ+bVqoPG9R/7Tli9v6+P3kscPMAVO3pQ2a/wwt+Pv87vFuP/szdf3PQe6cZQBWSXrH6fElapMVaayfs9fytt3535vZLjnh+1c0BENio7/Am31h3c4Ia139tueC4mdurL/l6rW0DML0dL5v9Dh/0yfnf4dt8w9Z5D6amSeHdr70vHbJCe1/uQ5Lk7le6+xp3X7OP9pv7NAA0ZWwfRv8FYJhpIlDfkvRsMztKSadzupJr/kzs1p8kv2QHRaKy58Y9H0MUq2hbhz1fRxsGvbZoWyY5FnVscxlFt3nUtjR1bKtYX345ZZcXw/Gc0NR92A9f9+HZO69L/hm0P7a/7fiZ2yveM/8SkdvWJc+vWjfo8pH12vqu2V/kR75z/i/ycdsSpA2Xza7jyEtHr6Psvtt26eyyV102/z1bLk+2f/U7vj7vsbmPN2XLFWkbx0Q9B21LdnwHHdtx+ya0UPs1v5yyyxsUdSpq4gGUuz9lZn8u6VZJCyR9zN1/MHFLAKBG9GEAplHrpVzWPG+Rf/PWlXs9NixKMde417X4V/BQoaJug5YTOlISQ4QphjZMoq52NxGl3eQbtcsfibWIvJRFy1f6ygveKGk28jSoX1p78X+Zeezxw5JNP+K/zf6av+/tya/8fWZr73XY+5uPPIU2LpI1KhKSl0WYpNko07hllxVDhKnu6E8oWTRMqrYOcFA0rQ63+YY73H3NoOeYiRwAAKAkBlAAAAAl1ZrCW2oHe3Ya8Kg03DQpjUnSe+PeEzr1Mcn2VbW/yqy3TWmxSVSV4qqyoD92XUrhFe2/dpybOy36mnLphnwaxxckfXOZFJenezpfeJ2lDFe+O0xaaJIi8pk25v67ydJUodNxeXWll2KQfXZCp//KpDebSrNViRQeAABAQI1FoDJFoz+D1HUaedGoVqjT26eJQoR477j3V1nEP+0UCdO0J8TxiyFi1+R3YK6uRqAy+WhTJh912nPS70uSfr3P7C7w9Gfr/rd8c957H3/F7EToi2/eNFV7M7885RhJ0tP7zrbhwE/NX/bu04+VJC1Z/415zz32ytl2HfDp0e3adUaynKU3zF/OONO8d/dpx87cXnLj8Pfn93G2TwZt8ySyfThsmYP2cfbYgj2z/xdPcuyz7Rr03my/SqP3bRWfv7J+cepsWw+8KcxxybbfcsOdosecCBQAAEBADKAAAABKiiqFV7Yousq0SgypmEGqnNOpTduMduh6Cu8nF80WVGdzPWVpO0na9/PfGrq8x/84ly75zPB0ya4zc+mX64ulHYqmbOo2KMUVqq2T7Kc67Dxrtl3LrounXSiGFB4AAEBAjU9jEKoQvKnTv5lCoLxprkOHcpr+DHU1ApWdyj/oNP5f/adjZm4v+tz8QvFBpimensbOs3PRkWvDrjvWiNC0dpyTnDgw7hpq2b4NvV/7JNvX0nTXrJsGESgAAICAGEABAACU1Ooi8nFIAc3XlfRZ06mpImLfh3Xoagovk83yLc3O9J3NuyQNnuupqCwF1qX017SKpsWKptmaEkNqahxSkAlSeAAAAAFFGYEa9Hyo0/OLCj3LedHtnGTZ49aX18aIXptOKghlmu9F3dG5UevregTqwTfORqAOe//8gvJsqoJR0xSMky/G9tyezGZVtqfnv2fQTNzTTBcwbpbv0Kfq59eXN2qG8XGyNtY9lcAkxfRtj/6M+zyM2r66p+AYdyIFESgAAICAGEABAACUFOU8UIPElJZAMXVdQBnx6moKb9u6JHW3at38tN0gtaclmP16amUKvWMvWsfkSOEBAAAE1HgRed6gwmciEkB7dTUCNci2S5Oo1KF3zlZ1L7558uJxAM0jAgUAABAQAygAAICSFjbdgEG6VHDcprYCmJwvSMohxqXt2jTDOMXRwHBEoAAAAEqKqoh8kNAzLlc54zdRJmBvfSoiH2RUtGmSGapDX0OtDddkA5pEETkAAEBADKAAAABKirKIPK/KNNs0Bd5VFodTeA50w6jUnBdMbA5Ls01T4L3j3PS914RP21F4jr4gAgUAAFASAygAAICSok/hhTAobTf38ZCmXcc07SL914w27XfOHI2DFTwBelDabu7jIU27jmnaRfqvGVWmdEPL2io1314iUAAAACVFNQ9U2V/xXfgl3abIBVBWn+aB2rYuuZjwqnW3F1re7tNm54FacmP8s5IPQsQIXcc8UAAAAAExgAIAACipF0XkTRqXoiN1B3RD0Xmd2mRcio7UHfqMCBQAAEBJURWRD1K0yLrtxdjjCuLbuH1dKPIfJb99mWm3s4plTirE8etTEfkgu85ILyZ8w+gi8Z1nJa9bdl27i8mlwVGpnWen23dte7av6xdazk8HoHQYMO12ZsfZbfYr39S+CzXdAUXkAAAAATGAAgAAKCmqFF5M6Yu6NJWa63p6rUqxplNjbFefUnj3vT2ZB+rQ7z8189j+t3yz8nY1qanU3K4zZ+fQGnXBZsyX7bvY9lusc4qRwgMAAAhobATKzFZKukbSM5WUml3p7h80s4Ml3ShptaQtkk5190dHLatoEWbR6AhRFCCMqr5LTUegmui/fvHqtTO3D/zUpqGvywrMpfFF5gCGyyKhUvho6LQRqKckXejuR0s6VtIFZna0pIslbXT3Z0vamN4HgJjQfwGoxNgBlLs/4O7fTm/vlnS3pOWSTpF0dfqyqyW9vKpGAsAk6L8AVKVUEbmZrZb0FUnPlbTN3Q9KHzdJj2b3h5lkHpXQ+lioDjSl6RReXhf6r73m7klNM8cNgNGCFJGb2YGSPi3pr9x9V/45T0ZhA0diZna+mW02s81P6okSzQaAMOi/AIRW6Fp4ZraPks7nOne/OX34p2Z2uLs/YGaHS3po0Hvd/UpJV0rJL7hJGzpNkWtdxeYxnkYeM04CQB1i6L+mKXLda0bsCqNNWXSLiFYxoWa6RnuNjUCl4e2rJN3t7u/LPfVZSeelt8+TdEv45gHA5Oi/AFSlSATqhZLOkXSnmWUhg7dJ+htJN5nZ6yVtlXRqNU0EgInRfwGoRFQzkWfalNppU1vLIB0JLia8t6L91+7TZ9N1S9bHPb9TV9NQpCPBxYQBAAAi1FgEKoYIRwxtQPd1NUpZRFcjUFvflfy6PfKdzUU4Yr12GLqlylm+24AIFAAAQEAMoAAAAEqKsog8lElSdKT1uqvPqbSmdDWFV4dJUnSk9bqrqwX/sSOFBwAAEFCUEaiikYK+RxRijZbV3a5Y90MbVL3v+hiBeuyVa2duH/DpTUNft/u03HQHN/avOHfnWcn2L7surm3PiqbrKpiue31dUsd0FUSgAAAAAmIABQAAUFJU80CRigG6paspvO1vO16StOI9t888P+gxAO1GCg8AACAgBlAAAAAlLWxqxYPSdE2l7sadzUdqMawQ+7MNZ2DG8Llpw35qo0FpuqZSd9ncT9Lg+Z84yyusEGd+tWFOpxguyBz7fiICBQAAUFKU80AVVeWva365A9PrahF5CNk8SFL4uZDGRaUAFEMROQAAQEAMoAAAAEpqrIh8lKLps0lSa1UuGwB2nTGbmlt6w/DU3CRpu6KpOdJ2QPWIQAEAAJTUeARqUERo1FQCw54visgSgFC2vms2InTkO5Ooz6Co064zc1Gp6ycvGCeyBMSDCBQAAEBJDKAAAABKajyFV/RiwnWn3ro6D9Q0s2NXObM2F5dGG2VpO0nati65mPCqdfNnJJ8mbTeJbPZxqVszkE8zq3pWgF9FGnTQsqtcH+JABAoAAKCkqGYiJwrRPhyfZsUeKe3TTOTbLk0jUJfNRqB2n55ETJas704UqEu4TmCzqpyNPxRmIgcAAAiIARQAAEBJjafwYk9BhNKX7YwNF5yuTpH0bddTeIPmgeqiNqRaumjHubmZ568J+/mqctltkG3/uG0nhQcAABBQ4xGoPIrIgW7pegQqL4tG5SNR2XXxRl0TD0C8iEABAAAExAAKAACgpMZnIs/L0nR1FeeSHgQQSpa6y9J2UrWpO2a6BppFBAoAAKCkxiJQIa57N22kisgTgElsvSyZdfzISwdc965g1Gn3abORqiU3lo9UEXkCmkUECgAAoCQGUAAAACU1lsKru2AcmAQnGmCQLHW3bd3xM4+tWjc/nQc0KZtBntnjq0EECgAAoCQGUAAAACU1Pg/UJKmRPqZVqtzmUcvue4q1j9uM4iZJ2+08O02rXNuftEqV2zxq2dlcWVI/z1okdVctIlAAAAAlFb6YsJktkLRZ0v3ufrKZHSVpvaRDJN0h6Rx33zNqGYMuxtmGCEcfI15ACLFcTLiq/iu7gLC090WEY7LrzPSCxtcTjQDKCnUx4TdIujt3/72S3u/uz5L0qKTXT95EAKgU/ReAoAoNoMxshaSXSfpoet8kvVjShvQlV0t6eRUNBIBp0H8BqELRIvIPSLpI0pL0/iGSdrj7U+n97ZKWl1lxm9JibWhjUVXt93Gp2BhStbSht4L3X9n8T0e+M/65n7qUuquqGD2bL0kaXHg97vk67Dg3VxB/TTPp4hjaEJOxESgzO1nSQ+5+xyQrMLPzzWyzmW1+Uk9MsggAmAj9F4CqjC0iN7O/lnSOpKckLZK0VNJnJL1E0mHu/pSZHSdpnbu/ZNSyBhVhDpL/lZ7h1zrQPk0XkTfRf+UvEuwL0vd2KAoE9MlUReTu/lZ3X+HuqyWdLumL7n6WpC9JelX6svMk3RKovQAQBP0XgKpMMw/UWyS9yczuUVJTcFWYJgFA5ei/AEyl8DxQIRQNgY8TawF6rO0CmtJ0Ci+kUP1XNjt2bDNjZwXCFAcDs0LNAwUAAABFcC28vKIRnFgjPLG2K48oGVCNLVckEZzVl4yO4MQWecq0IfIUa/QO/UQECgAAoCQGUAAAACVFlcIrm1bq06zOoVJvXd9PQFPGpe7mimF267qESr2RukNMiEABAACU1FgEalREpWhkqU/RlD5tKxC7bZcm18Jbddn8a+E9/oq1M7cX37xp6DK6HnXKI3KELiICBQAAUBIDKAAAgJIaS+GRkppMnwrngVgNSt1lnt63ExOvV2Ln2bnC+Wv7k8JENxGBAgAAKKnxaQwGRVSIrAxXxb5hdnJgMlsuP27m9up3JIXSS9YTWRmmiqhTNh1En4ryEQciUAAAACUxgAIAACgpynmguijm4u/Y2gPELkvdZWm7rou5+JvUHZpCBAoAAKCkzkxjEDqiFTpiRJRnviqjctN8HmKLFsb+2e6j0JGnUNeKm7u8UMuMLeoUgx3n5vbxNYE/D+myJ1lule2axDTbMmp5IZc5KSJQAAAAJTGAAgAAKMncvbaVLbWDfa2dIKl/ReQx41igKpt8o3b5I52Ymjvff/WtiDxmzAOFKt3mG+5w9zWDniMCBQAAUBIDKAAAgJJacxZeV88ciiF91qX9Gbuufo77pmzqLvRZcbEIfYbVJEjd1SemM+BiQAQKAACgpMaKyLuCiMJwk+ybPu3PGKKPVetqEXlXEFEYbpJ906f9GUP0sQ4UkQMAAATEAAoAAKCkzqTwup4O6fr2oZtI4RUT+lIusen69qG7SOEBAAAE1Ng0BqNMUkjc9chMF7dvmiJzitIRq92nHztze8n6YqfYdz0y08Xtm6jIvGQkrk9F6W1EBAoAAKAkBlAAAAAltaaIvO+pGIrIw8p/njKj9m3fP3+Toog8sfPs2bTesmv7N3M2ReRhzcxsn/tmjUrxdXUm/DpQRA4AABBQ9BGoUZEXogKoAp+r4crum75HoHaelUSeBl2vbdeZs1Gppdf3LyqFalB4PtwkkTgiUAAAAAExgAIAACgpyhQeKZT+4thPLsYTDfqYwptkHih0A8Xak4v14sSk8AAAAAKKMgI1Toy/tCfVpW1poyYjXmWnUmijPkagxunSKf2xRg36osmC8Zl154YQXfhMz0UECgAAICAGUAAAACUVSuGZ2UGSPirpuUoCdq+T9ENJN0paLWmLpFPd/dFRy+lzEXkXtwkYJ4YUXt39VxeLyPs+kzr6K0QK74OSPu/uvyPpeZLulnSxpI3u/mxJG9P7ABAb+i8AwS0c9wIzWybpDyS9RpLcfY+kPWZ2iqQXpS+7WtKXJb2lbAP6Epnp8rahHn35roRUdf+17dLjZ26vuux2SdKCPfWdmFMXok6YVheneCgSgTpK0sOSPm5m3zGzj5rZAZKe6e4PpK95UNIzq2okAEyI/gtAJYoMoBZK+j1JH3b3F0h6THPC3Z4UUg382WVm55vZZjPb/KSemLa9AFAG/ReASowtIjezwyR9w91Xp/f/rZIO6FmSXuTuD5jZ4ZK+7O7PGbWsUPOoZEhpxI3jg6aLyGPuvyjMjhsX5YU0ZRG5uz8o6T4zyzqXEyTdJemzks5LHztP0i0B2goAwdB/AahK0WkMnq/kNOB9Jd0r6bVKBl83SVolaauS04AfGbWc0L/g+q6Ls5gTteqWpiNQEv1XrLo4izlRq+4ZFYEaexaeJLn7dyUNWgC9CYCo0X8BqAIzkQMAAJRUKAKFyVWZZgu1zJhSgTG0ITYxHR/0S5VptlDLjCkVGEMbYhPT8QmNCBQAAEBJDKAAAABKKnQWXij5s1hIS2AcPiPtF8NZeKHk+68tVyRpidWXdC8tgTCyS5d05bIlfRXiYsIAAABINVZETlQB02C+KDSJyBPGGhF3Zb6obiACBQAAUBIDKAAAgJKimgcqn5bJkJ7pr1HHns8FYrPt0uMlSYfe+fTMY4tv3tRUc9CwUak50nbdQAQKAACgpKgiUEQVuiVUoTcF42iDVZfd3nQTEFCoQm8KxruLCBQAAEBJDKAAAABKaiyFxyzT9WkqBRZqXXxGEJstl6czkb+DlEzVdp517MztZdd9o7b1hkq3kbbrLiJQAAAAJUU5EzlFw2G1dR8SpUSsRkWedp0xGzFZekN9EZOuqjPqFBLXwus+IlAAAAAlMYACAAAoKcoi8thSNqSSmsH+3hup7XhsfVeSnjnynfPTM7Gl7XadmaQUl14fV7u6jtTd3rKUptSdfUMECgAAoKQoi8hj0IZf+0TG+oXjHI9BkaeYtGH266yNsbYPYXUl6pRHBAoAAKAkBlAAAAAlRXUx4bq1PQXW1najfdr+XemikSkwr7kxEyB1h7pUlS4mAgUAAFCSudf3U2WpHexr7QRJo3/RtqGAG8Bw2Xf4mJfcp83f+5U13Jwg8v3XtkuPlyStuuz2ea97/BVrZ24vvnlTPY0DEEz+JIzNV194h7uvGfQ6IlAAAAAlMYACAAAoqbEU3jS6VNDapW1BfSb53DTxWdvkG7XLH+lcCm8aO89OZgZfdm37ZwZnLidMYpLPTVMXZ77NN5DCAwAACCWqCFRXojEUwQOJPkWgtlye/EJe/Y52R2OyCJnUjSgZMA0iUAAAAAExgAIAACgpqpnIu5Luatt21J067Uqqtgs4FuG0PXWXaVvaru5Cdgrn49H0sSACBQAAUBIDKAAAgJKiOgsP/TLN2Yqc6di8Ium/Pp2Fh37JX+6jbAppmvcijKLpP87CAwAACKjxInIiCf3F8W43jp+05YrZSMLqS4gk9MlUkaP6Ej8YIkTkjwgUAABASYUGUGb2RjP7gZl938xuMLNFZnaUmW0ys3vM7EYz27fqxgJAWfRfAKowtojczJZL+qqko939l2Z2k6T/Jemlkm529/Vm9g+SvufuHx61rDZdyoXUIjC9povI6+y/YrqUC5djAcIIUUS+UNL+ZrZQ0mJJD0h6saQN6fNXS3r5tA0FgArQfwEIbmwRubvfb2Z/K2mbpF9K+kdJd0ja4e5PpS/bLmn5tI3hVHYAIdXZf5WNPO08Kxclui5slMitEzNHAFEbG4Eys9+QdIqkoyQdIekASScVXYGZnW9mm81s85N6YuKGAkBZ9F8AqlIkhXeipH9294fd/UlJN0t6oaSD0pC4JK2QdP+gN7v7le6+xt3X7KP9gjQaAAqi/wJQiSLzQG2TdKyZLVYSAj9B0mZJX5L0KknrJZ0n6ZaqGjlMlWk7UoLTiy3FGlt7UIto+6/Qabu8gz7ZfCF728U2W3hs7UGBCJS7b1JSbPltSXem77lS0lskvcnM7pF0iKSrKmwnAJRG/wWgKlwLD51RV4Qppuk2Ytf0NAYh0X+hSjvOyUWYKowgZushSlkM18IDAAAIiAEUAABASY1fTHgaFAUjr67PQNH1kOrDKMwWjry6UmpF15MVrVOwPhwRKAAAgJIai0CF+HXex1/2RN3ag+PTXSGue9fHqFOVs68jLCJP4xGBAgAAKIkBFAAAQEmNpfDalN6IqRg4hjY0KaZjgf6aJnVXt5jm/el72o7C7G4hAgUAAFBSlNMYFC2UrqugmmhHPDgWiN0vTp0tlD7wpuERl11nzL5u6Q1cF68PiDx1CxEoAACAkhhAAQAAlBRlCm9QmmZQuq4L6RyKooFuGZS2G3Sh2CrTdnWhKBp9RgQKAACgJAZQAAAAJTWewit6Jl1XU1xd3S60Nz3b1nY3IbukizR6bqiunglH6q67Ypo/rIzsIt11XCqJCBQAAEBJ5u61rWypHexr7YTa1jcOv7SrxYWP+2fud2qTb9Quf8SabFMosfVfFHBXK9u/Evu4LwZ9p27zDXe4+5pBrycCBQAAUBIDKAAAgJJ6ncKrE+ksSP35HGTbecxL7tPm7/2KFF7Lkc6C1J/PQX47N199ISk8AACAUBqLQLWxgLsv0QMglK4WkWfTF4yauiA22endUj2neANdQBE5AABAQAygAAAASmp8JvI2IW2HNmtj2hzhkLZDm9U5w3hRRKAAAABKaiwCFfuv4EkKxvmFj5jxuQwn9uLxSU43Z2ZzxCymyFOGCBQAAEBJDKAAAABKirKIPIb5liZZLymS/iJ9m2A/SLvOmJ1vaekNzSTd5w8AAAVUSURBVKQdJknDkbrrL9K3ibL7gQgUAABASVFGoIC8GCKS48TarrqxHySr7+IOaIEd5+QK+j8ZZ4Sn75GnTNn9QAQKAACgJAZQAAAAJUWZwiMNUExfCna7un19OX59s2R9fPPVxKgvhcuxpu2m1ZfjNwoRKAAAgJLMvb6KxzXPW+TfvHWlpDC/uttQXAz02SbfqF3+iDXdjhAOOHSlH/2yN0oKE1XIru0lxTnLMgDpNt9wh7uvGfQcESgAAICSGEABAACUVGsKb6kd7GvthNrWB2C+Oi+U3aUUHv0X0Ly6L5RNCg8AACCgKKcxANqqDSc25NtVNLIU67YACGeS6E7d8u0qGlmqaluIQAEAAJTEAAoAAKCkWovIzexhSY9J+lltK63WoWJbYtOV7ZC6sS1HuvtvNt2IEOi/osa2xKcr2zG0D6t1ACVJZrZ5WEV727At8enKdkjd2pau6NIxYVvi1JVt6cp2jEIKDwAAoCQGUAAAACU1MYC6soF1VoVtiU9XtkPq1rZ0RZeOCdsSp65sS1e2Y6jaa6AAAADajhQeAABASbUOoMzsJDP7oZndY2YX17nuaZjZSjP7kpndZWY/MLM3pI8fbGZfMLMfpf/+RtNtLcrMFpjZd8zsf6b3jzKzTemxudHM9m26jUWY2UFmtsHM/p+Z3W1mx7XxuJjZG9PP1vfN7AYzW9TWY9JVbe2/pO71YfRf8eljH1bbAMrMFkj6kKQ/lHS0pDPM7Oi61j+lpyRd6O5HSzpW0gVp2y+WtNHdny1pY3q/Ld4g6e7c/fdKer+7P0vSo5Je30iryvugpM+7++9Iep6SbWrVcTGz5ZL+UtIad3+upAWSTld7j0nntLz/krrXh9F/RaSvfVidEahjJN3j7ve6+x5J6yWdUuP6J+buD7j7t9Pbu5V8yJcraf/V6cuulvTyZlpYjpmtkPQySR9N75ukF0vakL6kFdtiZssk/YGkqyTJ3fe4+w6187gslLS/mS2UtFjSA2rhMemw1vZfUrf6MPqvaPWuD6tzALVc0n25+9vTx1rFzFZLeoGkTZKe6e4PpE89KOmZDTWrrA9IukjSr9P7h0ja4e5PpffbcmyOkvSwpI+n4fyPmtkBatlxcff7Jf2tpG1KOp2dku5QO49JV3Wi/5I60YfRf0Wmr30YReQlmNmBkj4t6a/cfVf+OU9OZ4z+lEYzO1nSQ+5+R9NtCWChpN+T9GF3f4GSy2zsFe5uw3FJaxxOUdKhHiHpAEknNdoodFLb+zD6rzj1tQ+rcwB1v6SVufsr0sdawcz2UdLxXOfuN6cP/9TMDk+fP1zSQ021r4QXSvojM9uiJA3xYiV5+IPS0KvUnmOzXdJ2d9+U3t+gpENq23E5UdI/u/vD7v6kpJuVHKc2HpOuanX/JXWmD6P/ilMv+7A6B1DfkvTstCp/XyUFZp+tcf0TS3PsV0m6293fl3vqs5LOS2+fJ+mWuttWlru/1d1XuPtqJcfgi+5+lqQvSXpV+rK2bMuDku4zs+ekD50g6S6177hsk3SsmS1OP2vZdrTumHRYa/svqTt9GP1XtHrZh9U6kaaZvVRJ/nqBpI+5+7trW/kUzOzfSPo/ku7UbN79bUpqCG6StErSVkmnuvsjjTRyAmb2IklvdveTzey3lPyiO1jSdySd7e5PNNm+Iszs+UqKSfeVdK+k1yr5YdCq42Jml0k6TcnZUt+R9CdK6gVad0y6qq39l9TNPoz+Ky597MOYiRwAAKAkisgBAABKYgAFAABQEgMoAACAkhhAAQAAlMQACgAAoCQGUAAAACUxgAIAACiJARQAAEBJ/x8UOk78+IwFRgAAAABJRU5ErkJggg==\n",
      "text/plain": [
       "<Figure size 720x360 with 2 Axes>"
      ]
     },
     "metadata": {
      "needs_background": "light"
     },
     "output_type": "display_data"
    }
   ],
   "source": [
    "plot_adj_matrices(graph, final_adj)"
   ]
  },
  {
   "cell_type": "markdown",
   "metadata": {},
   "source": [
    "Note that the weights of most edges has decreased, while the edges incident to (and between) nodes in the subgraph have increased weights (see top left corner of the matrix after attack)."
   ]
  },
  {
   "cell_type": "markdown",
   "metadata": {},
   "source": [
    "# Run attack on a BA network (new nodes)"
   ]
  },
  {
   "cell_type": "markdown",
   "metadata": {},
   "source": [
    "In this experiment, I'll use a subgraph induced by the egonet of a random node. Since the node is random, it is likely to have low degree."
   ]
  },
  {
   "cell_type": "code",
   "execution_count": 6,
   "metadata": {},
   "outputs": [
    {
     "name": "stdout",
     "output_type": "stream",
     "text": [
      "(0) utility: 0.122, lambda_1: 7.193, lambda_1_S: 2.000\n",
      "(10) utility: 0.268, lambda_1: 7.097, lambda_1_S: 2.186\n",
      "(20) utility: 0.548, lambda_1: 7.035, lambda_1_S: 2.667\n",
      "(30) utility: 0.533, lambda_1: 6.944, lambda_1_S: 2.544\n",
      "(40) utility: 0.656, lambda_1: 6.885, lambda_1_S: 2.719\n",
      "(50) utility: 0.632, lambda_1: 6.807, lambda_1_S: 2.593\n",
      "(60) utility: 0.700, lambda_1: 6.751, lambda_1_S: 2.666\n",
      "(70) utility: 0.717, lambda_1: 6.691, lambda_1_S: 2.637\n",
      "(80) utility: 0.777, lambda_1: 6.645, lambda_1_S: 2.707\n",
      "(90) utility: 0.836, lambda_1: 6.601, lambda_1_S: 2.776\n"
     ]
    }
   ],
   "source": [
    "graph = nx.barabasi_albert_graph(100, 2)\n",
    "center = np.random.choice(range(graph.order()))\n",
    "subgraph = list(graph.neighbors(center)) + [center]\n",
    "alphas = [0.5, 0.3, 0.2]\n",
    "results, final_adj = spectrum_attack(graph, subgraph, alphas, verbose=True)"
   ]
  },
  {
   "cell_type": "code",
   "execution_count": 7,
   "metadata": {},
   "outputs": [
    {
     "data": {
      "text/plain": [
       "[32, 6, 44, 75, 37]"
      ]
     },
     "execution_count": 7,
     "metadata": {},
     "output_type": "execute_result"
    }
   ],
   "source": [
    "subgraph"
   ]
  },
  {
   "cell_type": "markdown",
   "metadata": {},
   "source": [
    "## Plot behavior of $\\lambda_1$ and $\\lambda_1^S$"
   ]
  },
  {
   "cell_type": "code",
   "execution_count": 8,
   "metadata": {},
   "outputs": [
    {
     "data": {
      "text/plain": [
       "<Figure size 432x288 with 0 Axes>"
      ]
     },
     "metadata": {},
     "output_type": "display_data"
    },
    {
     "data": {
      "image/png": "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\n",
      "text/plain": [
       "<Figure size 432x288 with 1 Axes>"
      ]
     },
     "metadata": {
      "needs_background": "light"
     },
     "output_type": "display_data"
    }
   ],
   "source": [
    "plot_results(results, alphas)"
   ]
  },
  {
   "cell_type": "markdown",
   "metadata": {},
   "source": [
    "Recall the attacker wants the orange and green lines to increase, while keeping the blue as constant as possible. Here, orange is oscillating and blue is decreasing. One possible reason that orange is oscillating is the following: if many nodes in the target subgraph are neighbors of the node of largest degree, then the third term  of the objective function (increasing subgraph centrality) will try to strengthen those connections to the node of largest degree. On the other hand, the second term (decreasing $\\lambda_1$) will try to weaken those connections, as $\\lambda_1$ is deeply related to the node of largest degree."
   ]
  },
  {
   "cell_type": "markdown",
   "metadata": {},
   "source": [
    "## Plot adjacency matrices"
   ]
  },
  {
   "cell_type": "code",
   "execution_count": 9,
   "metadata": {},
   "outputs": [
    {
     "data": {
      "image/png": "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\n",
      "text/plain": [
       "<Figure size 720x360 with 2 Axes>"
      ]
     },
     "metadata": {
      "needs_background": "light"
     },
     "output_type": "display_data"
    }
   ],
   "source": [
    "plot_adj_matrices(graph, final_adj)"
   ]
  },
  {
   "cell_type": "markdown",
   "metadata": {},
   "source": [
    "As before, the weights of most edges have decreased, while the edges incident to (and between) nodes in the subgraph have increased weights. Interestingly, the weights of edges incident to the nodes of largest degree seem to have decreased the most. (I.e. if you look at the top left corner of the right matrix, the colors are darker.) This observation also supports the comment made in the previous plot: even if the target subgraph doesn't include the node of largest degree, its connections to its neighbors tend to be modified substantially (possibly because it is tied to $\\lambda_1$).\n",
    "\n",
    "On the other hand, the intuition that the attacker wants to (broadly) densify the target graph while sparsifying its complement is already visible even with this first pass at the objective function. This lends more support for the sparsification side of things that Sixie and I are looking into."
   ]
  },
  {
   "cell_type": "code",
   "execution_count": null,
   "metadata": {},
   "outputs": [],
   "source": []
  },
  {
   "cell_type": "code",
   "execution_count": 254,
   "metadata": {},
   "outputs": [],
   "source": []
  },
  {
   "cell_type": "code",
   "execution_count": 470,
   "metadata": {},
   "outputs": [],
   "source": [
    "n = 128\n",
    "G = nx.watts_strogatz_graph(n, 10, 0.2)\n",
    "adj = nx.adjacency_matrix(G).todense()\n",
    "\n",
    "alpha1, alpha2, alpha3 = 0.4, 0.4, 0.2\n",
    "\n",
    "center = np.random.choice(range(G.order()))\n",
    "S = list(G.neighbors(center)) + [center]\n",
    "S_prime = list(set(G.nodes()) - set(S))\n",
    "S = torch.LongTensor(S)\n",
    "S_prime = torch.LongTensor(S_prime)\n",
    "\n",
    "x_s = torch.zeros(n)\n",
    "x_s[S] = 1\n",
    "\n",
    "\n",
    "class Threat_Model(nn.Module):\n",
    "    def __init__(self, S, S_prime, Alpha, budget, learning_rate, G):\n",
    "        super(Threat_Model, self).__init__()\n",
    "        self.S = S\n",
    "        self.S_prime = S_prime\n",
    "        self.alpha_1, self.alpha_2, self.alpha_3 = Alpha\n",
    "        self.budget = budget\n",
    "        self.learning_rate = learning_rate\n",
    "        self.used_budget = 0\n",
    "        \n",
    "        self.lambda1_S_prime = 0\n",
    "        self.lambda1_S = 0\n",
    "        self.normalizedCut = 0\n",
    "        self.lambda1 = 0\n",
    "        \n",
    "        adj = nx.adjacency_matrix(G).todense()\n",
    "        self.mask = torch.tensor(adj, dtype=torch.float32)\n",
    "        eigVals, eigVecs = torch.symeig(self.mask, eigenvectors=True)\n",
    "        # eig-vector associated with the largest eig-value of A (since mask = A)\n",
    "        self.eig_v = eigVecs[:, -1]\n",
    "        self.original_lambda1 = eigVals[-1]\n",
    "        \n",
    "        self.adj_tensor = torch.tensor(adj, dtype=torch.float32).requires_grad_(True)\n",
    "        self.adj_tensor = nn.Parameter(self.adj_tensor)\n",
    "        # masking the gradients backpropagated to adj_tensor\n",
    "        self.adj_tensor.register_hook(lambda x: x * self.mask)\n",
    "        \n",
    "    def forward(self):\n",
    "        '''\n",
    "            compute the loss function given current adjacency matrix\n",
    "        '''\n",
    "        # degree matrix\n",
    "        D = torch.diag(torch.mm(self.adj_tensor, torch.ones(n).view(-1, 1)).squeeze())\n",
    "        # Laplacian matrix\n",
    "        L = D - self.adj_tensor\n",
    "    \n",
    "        # select the sub-matrix corresponding to S\n",
    "        adj_tensor_S = torch.index_select(torch.index_select(self.adj_tensor, 0, self.S), 1, self.S)\n",
    "        adj_tensor_S_prime = torch.index_select(torch.index_select(self.adj_tensor, 0, self.S_prime), 1, self.S_prime)\n",
    "    \n",
    "        # all sorts of largest eigenvalues \n",
    "        self.lambda1 = torch.max(torch.symeig(self.adj_tensor, eigenvectors=True)[0])\n",
    "        self.lambda1_S = torch.max(torch.symeig(adj_tensor_S, eigenvectors=True)[0])\n",
    "        self.lambda1_S_prime = torch.max(torch.symeig(adj_tensor_S_prime, eigenvectors=True)[0])\n",
    "        \n",
    "        # centrality measure\n",
    "        self.normalizedCut = torch.mm(x_s.view(1, -1), torch.mm(L, x_s.view(-1, 1))) / (0.5 * adj_tensor_S.sum())\n",
    "        Loss = -1 * (self.alpha_1 * self.lambda1_S - \\\n",
    "                     self.alpha_2 * self.lambda1_S_prime + self.alpha_3 * self.normalizedCut)\n",
    "        return Loss\n",
    "    \n",
    "    \n",
    "    # check if the attacker still has budget\n",
    "    def update_used_budget(self):\n",
    "        # make sure the attacker has made some attack\n",
    "        if self.adj_tensor.grad != None:\n",
    "            current_used_budget = \\\n",
    "                torch.abs(torch.mm(self.eig_v.view(1, -1), torch.mm(self.aggre_change, self.eig_v.view(-1, 1))))\n",
    "            self.used_budget += current_used_budget \n",
    "\n",
    "    \n",
    "    # return the results that we are interested in\n",
    "    def getRet(self):\n",
    "        return self.lambda1_S, self.lambda1, self.normalizedCut\n",
    "    \n",
    "    \n",
    "    def get_used_budget(self):\n",
    "        return torch.Tensor(self.used_budget).clone()\n",
    "            \n",
    "            \n",
    "learning_rate = 1e-1\n",
    "Alpha = [alpha1, alpha2, alpha3]\n",
    "Attacker = Threat_Model(S, S_prime, Alpha, 0.1, learning_rate, G)\n",
    "opt = torch.optim.Adam(Attacker.parameters(), lr=learning_rate)\n",
    "\n",
    "ret = {'lambda_1': [], 'lambda_1_S': [], 'centrality': []}\n",
    "Losses = []\n",
    "for i in range(20):\n",
    "    Loss = Attacker()\n",
    "    Losses.append(Loss.item())\n",
    "    lambda1_S, lambda1, normalizedCut = Attacker.getRet()\n",
    "    ret['lambda_1'].append(lambda1.item())\n",
    "    ret['lambda_1_S'].append(lambda1_S.item())\n",
    "    ret['centrality'].append(normalizedCut.item())\n",
    "\n",
    "    opt.zero_grad()\n",
    "    Loss.backward()\n",
    "    opt.step()\n",
    "            \n",
    "ret = pd.DataFrame(ret) "
   ]
  },
  {
   "cell_type": "code",
   "execution_count": 471,
   "metadata": {},
   "outputs": [
    {
     "data": {
      "text/html": [
       "<div>\n",
       "<style scoped>\n",
       "    .dataframe tbody tr th:only-of-type {\n",
       "        vertical-align: middle;\n",
       "    }\n",
       "\n",
       "    .dataframe tbody tr th {\n",
       "        vertical-align: top;\n",
       "    }\n",
       "\n",
       "    .dataframe thead th {\n",
       "        text-align: right;\n",
       "    }\n",
       "</style>\n",
       "<table border=\"1\" class=\"dataframe\">\n",
       "  <thead>\n",
       "    <tr style=\"text-align: right;\">\n",
       "      <th></th>\n",
       "      <th>lambda_1</th>\n",
       "      <th>lambda_1_S</th>\n",
       "      <th>centrality</th>\n",
       "    </tr>\n",
       "  </thead>\n",
       "  <tbody>\n",
       "    <tr>\n",
       "      <th>0</th>\n",
       "      <td>10.163877</td>\n",
       "      <td>5.291664</td>\n",
       "      <td>2.190476</td>\n",
       "    </tr>\n",
       "    <tr>\n",
       "      <th>1</th>\n",
       "      <td>9.404421</td>\n",
       "      <td>5.820830</td>\n",
       "      <td>2.190477</td>\n",
       "    </tr>\n",
       "    <tr>\n",
       "      <th>2</th>\n",
       "      <td>9.040400</td>\n",
       "      <td>6.350277</td>\n",
       "      <td>2.189713</td>\n",
       "    </tr>\n",
       "    <tr>\n",
       "      <th>3</th>\n",
       "      <td>9.191995</td>\n",
       "      <td>6.880132</td>\n",
       "      <td>2.188003</td>\n",
       "    </tr>\n",
       "    <tr>\n",
       "      <th>4</th>\n",
       "      <td>9.567895</td>\n",
       "      <td>7.410502</td>\n",
       "      <td>2.185272</td>\n",
       "    </tr>\n",
       "    <tr>\n",
       "      <th>5</th>\n",
       "      <td>10.026572</td>\n",
       "      <td>7.941459</td>\n",
       "      <td>2.181514</td>\n",
       "    </tr>\n",
       "    <tr>\n",
       "      <th>6</th>\n",
       "      <td>10.524951</td>\n",
       "      <td>8.473045</td>\n",
       "      <td>2.176759</td>\n",
       "    </tr>\n",
       "    <tr>\n",
       "      <th>7</th>\n",
       "      <td>11.046058</td>\n",
       "      <td>9.005306</td>\n",
       "      <td>2.171059</td>\n",
       "    </tr>\n",
       "    <tr>\n",
       "      <th>8</th>\n",
       "      <td>11.581601</td>\n",
       "      <td>9.538264</td>\n",
       "      <td>2.164476</td>\n",
       "    </tr>\n",
       "    <tr>\n",
       "      <th>9</th>\n",
       "      <td>12.126884</td>\n",
       "      <td>10.071932</td>\n",
       "      <td>2.157076</td>\n",
       "    </tr>\n",
       "    <tr>\n",
       "      <th>10</th>\n",
       "      <td>12.679064</td>\n",
       "      <td>10.606318</td>\n",
       "      <td>2.148929</td>\n",
       "    </tr>\n",
       "    <tr>\n",
       "      <th>11</th>\n",
       "      <td>13.249505</td>\n",
       "      <td>11.141421</td>\n",
       "      <td>2.140101</td>\n",
       "    </tr>\n",
       "    <tr>\n",
       "      <th>12</th>\n",
       "      <td>13.824674</td>\n",
       "      <td>11.677232</td>\n",
       "      <td>2.130657</td>\n",
       "    </tr>\n",
       "    <tr>\n",
       "      <th>13</th>\n",
       "      <td>14.402582</td>\n",
       "      <td>12.213745</td>\n",
       "      <td>2.120659</td>\n",
       "    </tr>\n",
       "    <tr>\n",
       "      <th>14</th>\n",
       "      <td>14.982825</td>\n",
       "      <td>12.750942</td>\n",
       "      <td>2.110164</td>\n",
       "    </tr>\n",
       "    <tr>\n",
       "      <th>15</th>\n",
       "      <td>15.563894</td>\n",
       "      <td>13.288822</td>\n",
       "      <td>2.099229</td>\n",
       "    </tr>\n",
       "    <tr>\n",
       "      <th>16</th>\n",
       "      <td>16.145203</td>\n",
       "      <td>13.827347</td>\n",
       "      <td>2.087903</td>\n",
       "    </tr>\n",
       "    <tr>\n",
       "      <th>17</th>\n",
       "      <td>16.726873</td>\n",
       "      <td>14.366508</td>\n",
       "      <td>2.076236</td>\n",
       "    </tr>\n",
       "    <tr>\n",
       "      <th>18</th>\n",
       "      <td>17.308714</td>\n",
       "      <td>14.906285</td>\n",
       "      <td>2.064271</td>\n",
       "    </tr>\n",
       "    <tr>\n",
       "      <th>19</th>\n",
       "      <td>17.890863</td>\n",
       "      <td>15.446642</td>\n",
       "      <td>2.052049</td>\n",
       "    </tr>\n",
       "  </tbody>\n",
       "</table>\n",
       "</div>"
      ],
      "text/plain": [
       "     lambda_1  lambda_1_S  centrality\n",
       "0   10.163877    5.291664    2.190476\n",
       "1    9.404421    5.820830    2.190477\n",
       "2    9.040400    6.350277    2.189713\n",
       "3    9.191995    6.880132    2.188003\n",
       "4    9.567895    7.410502    2.185272\n",
       "5   10.026572    7.941459    2.181514\n",
       "6   10.524951    8.473045    2.176759\n",
       "7   11.046058    9.005306    2.171059\n",
       "8   11.581601    9.538264    2.164476\n",
       "9   12.126884   10.071932    2.157076\n",
       "10  12.679064   10.606318    2.148929\n",
       "11  13.249505   11.141421    2.140101\n",
       "12  13.824674   11.677232    2.130657\n",
       "13  14.402582   12.213745    2.120659\n",
       "14  14.982825   12.750942    2.110164\n",
       "15  15.563894   13.288822    2.099229\n",
       "16  16.145203   13.827347    2.087903\n",
       "17  16.726873   14.366508    2.076236\n",
       "18  17.308714   14.906285    2.064271\n",
       "19  17.890863   15.446642    2.052049"
      ]
     },
     "execution_count": 471,
     "metadata": {},
     "output_type": "execute_result"
    }
   ],
   "source": [
    "ret"
   ]
  },
  {
   "cell_type": "code",
   "execution_count": 469,
   "metadata": {},
   "outputs": [
    {
     "data": {
      "text/plain": [
       "Text(0.5, 1.0, 'alpha_1=0.40  alpha_2=0.40  alpha_3=0.20')"
      ]
     },
     "execution_count": 469,
     "metadata": {},
     "output_type": "execute_result"
    },
    {
     "data": {
      "image/png": "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\n",
      "text/plain": [
       "<Figure size 432x288 with 1 Axes>"
      ]
     },
     "metadata": {
      "needs_background": "light"
     },
     "output_type": "display_data"
    }
   ],
   "source": [
    "ret.plot(kind='line')\n",
    "plt.xlabel('iterations')\n",
    "plt.title('alpha_1=%.2f  alpha_2=%.2f  alpha_3=%.2f' % (alpha1, alpha2, alpha3))"
   ]
  },
  {
   "cell_type": "code",
   "execution_count": null,
   "metadata": {},
   "outputs": [],
   "source": []
  },
  {
   "cell_type": "code",
   "execution_count": 132,
   "metadata": {},
   "outputs": [
    {
     "data": {
      "text/plain": [
       "array([[ 0. ,  0. ,  0. , -0.5],\n",
       "       [ 0. ,  0. , -0.5, -0.5],\n",
       "       [ 0. , -0.5,  0. , -0.5],\n",
       "       [-0.5, -0.5, -0.5,  0. ]])"
      ]
     },
     "execution_count": 132,
     "metadata": {},
     "output_type": "execute_result"
    }
   ],
   "source": [
    "g[np.ix_(S.numpy(), S.numpy())]"
   ]
  },
  {
   "cell_type": "code",
   "execution_count": 134,
   "metadata": {},
   "outputs": [
    {
     "data": {
      "text/plain": [
       "array([0, 1, 5, 7, 8, 9])"
      ]
     },
     "execution_count": 134,
     "metadata": {},
     "output_type": "execute_result"
    }
   ],
   "source": [
    "np.where(adj_tensor.grad.numpy()[2, :])[0]"
   ]
  },
  {
   "cell_type": "code",
   "execution_count": 135,
   "metadata": {},
   "outputs": [
    {
     "data": {
      "text/plain": [
       "array([0, 1, 4, 7, 8, 9])"
      ]
     },
     "execution_count": 135,
     "metadata": {},
     "output_type": "execute_result"
    }
   ],
   "source": [
    "np.where(g[2,:])[0]"
   ]
  },
  {
   "cell_type": "code",
   "execution_count": null,
   "metadata": {},
   "outputs": [],
   "source": []
  },
  {
   "cell_type": "code",
   "execution_count": null,
   "metadata": {},
   "outputs": [],
   "source": []
  },
  {
   "cell_type": "code",
   "execution_count": null,
   "metadata": {},
   "outputs": [],
   "source": []
  },
  {
   "cell_type": "code",
   "execution_count": null,
   "metadata": {},
   "outputs": [],
   "source": []
  },
  {
   "cell_type": "code",
   "execution_count": null,
   "metadata": {},
   "outputs": [],
   "source": []
  }
 ],
 "metadata": {
  "kernelspec": {
   "display_name": "Python 3",
   "language": "python",
   "name": "python3"
  },
  "language_info": {
   "codemirror_mode": {
    "name": "ipython",
    "version": 3
   },
   "file_extension": ".py",
   "mimetype": "text/x-python",
   "name": "python",
   "nbconvert_exporter": "python",
   "pygments_lexer": "ipython3",
   "version": "3.7.5"
  },
  "latex_envs": {
   "LaTeX_envs_menu_present": true,
   "autoclose": false,
   "autocomplete": false,
   "bibliofile": "biblio.bib",
   "cite_by": "apalike",
   "current_citInitial": 1,
   "eqLabelWithNumbers": true,
   "eqNumInitial": 1,
   "hotkeys": {
    "equation": "Ctrl-E",
    "itemize": "Ctrl-I"
   },
   "labels_anchors": false,
   "latex_user_defs": false,
   "report_style_numbering": true,
   "user_envs_cfg": false
  }
 },
 "nbformat": 4,
 "nbformat_minor": 2
}
